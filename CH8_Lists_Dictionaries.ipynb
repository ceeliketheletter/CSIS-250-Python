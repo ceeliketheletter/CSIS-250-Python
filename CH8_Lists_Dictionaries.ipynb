{
 "cells": [
  {
   "cell_type": "markdown",
   "id": "3e75e6b2",
   "metadata": {},
   "source": [
    "# 8.1 Lists\n"
   ]
  },
  {
   "cell_type": "markdown",
   "id": "f70e8ff9",
   "metadata": {},
   "source": [
    "A container is an object that groups related objects together. A list is a mutable container, meaning the size of the list can grow or shrink and elements within the list can change."
   ]
  },
  {
   "cell_type": "markdown",
   "id": "e56c3f22",
   "metadata": {},
   "source": [
    "A list can also be created using the built-in list() function. The list() function accepts a single iterable object argument, such as a string, list, or tuple, and returns a new list object. "
   ]
  },
  {
   "cell_type": "code",
   "execution_count": 2,
   "id": "23b4d46c",
   "metadata": {},
   "outputs": [
    {
     "data": {
      "text/plain": [
       "['a', 'b', 'c']"
      ]
     },
     "execution_count": 2,
     "metadata": {},
     "output_type": "execute_result"
    }
   ],
   "source": [
    "list('abc')"
   ]
  },
  {
   "cell_type": "markdown",
   "id": "08d817f5",
   "metadata": {},
   "source": [
    "Deletes the element from index i from a list"
   ]
  },
  {
   "cell_type": "code",
   "execution_count": 4,
   "id": "382ab729",
   "metadata": {},
   "outputs": [
    {
     "name": "stdout",
     "output_type": "stream",
     "text": [
      "[1, 3]\n"
     ]
    }
   ],
   "source": [
    "my_list = [1, 2, 3]\n",
    "del my_list[1]\n",
    "print(my_list)"
   ]
  },
  {
   "cell_type": "markdown",
   "id": "b30135bc",
   "metadata": {},
   "source": [
    "#### PythonTutor: In-place modification of a copy of a list."
   ]
  },
  {
   "cell_type": "code",
   "execution_count": 5,
   "id": "3124acae",
   "metadata": {},
   "outputs": [
    {
     "name": "stdout",
     "output_type": "stream",
     "text": [
      "My teams are: ['Raptors', 'Lakers', 'Nets']\n",
      "Your teams are: ['Raptors', 'Heat', 'Nets']\n"
     ]
    }
   ],
   "source": [
    "my_teams = ['Raptors', 'Heat', 'Nets']\n",
    "your_teams = my_teams[:]  # Assign your_teams with a COPY of my_teams\n",
    "\n",
    "my_teams[1] = 'Lakers'  # Modify list element\n",
    "\n",
    "print(f'My teams are: {my_teams}')  # List element has changed\n",
    "print(f'Your teams are: {your_teams}')  # List element has not changed\n"
   ]
  },
  {
   "cell_type": "markdown",
   "id": "08fdf86d",
   "metadata": {},
   "source": [
    "#### CHALLENGE ACTIVITY 8.1.2: Lists.\n",
    "\n",
    "Eight values are read from input and stored in the list list_data. Output 'List items: ' followed by the second and sixth element of list_data, separated by a space."
   ]
  },
  {
   "cell_type": "code",
   "execution_count": 8,
   "id": "a52b8465",
   "metadata": {},
   "outputs": [
    {
     "name": "stdout",
     "output_type": "stream",
     "text": [
      "64 14 Huy Norway 8 seashell green 10\n",
      "List items: 14 seashell\n"
     ]
    }
   ],
   "source": [
    "list_data = []\n",
    "\n",
    "for elem in input().split():\n",
    "    \n",
    "    if elem.isdigit(): # If elem is a digit, then convert to int.\n",
    "        list_data.append(int(elem))\n",
    "    else:\n",
    "        list_data.append(elem)\n",
    "\n",
    "print(f\"List items: {list_data[1]} {list_data[5]}\")\n"
   ]
  },
  {
   "cell_type": "raw",
   "id": "3fcce5a2",
   "metadata": {},
   "source": [
    "List student_grades has multiple pairs of strings and integers. Each data pair represents the name and the grade of a student. The student names are at even indices and the student grades are at odd indices. Integer student_num is read from input. Output:\n",
    "\n",
    "the name at index student_num\n",
    "' scored '\n",
    "the grade at index student_num + 1\n",
    "'% on the science exam.'"
   ]
  },
  {
   "cell_type": "code",
   "execution_count": 11,
   "id": "bf67f8da",
   "metadata": {},
   "outputs": [
    {
     "name": "stdout",
     "output_type": "stream",
     "text": [
      "2\n",
      "Dan scored 96% on the science exam.\n"
     ]
    }
   ],
   "source": [
    "student_grades = [\n",
    "    'Pat', 95, 'Dan', 96, 'Jan', 58, \n",
    "    'Mel', 94, 'Val', 49, 'Ken', 60, \n",
    "    'Ben', 55, 'Bob', 42, 'Mai', 90, \n",
    "    'Guy', 80, 'Gil', 51, 'Abe', 70, \n",
    "    'Cam', 48, 'Eve', 86, 'Huy', 50, \n",
    "]\n",
    "student_num = int(input())\n",
    "\n",
    "print(f'{student_grades[student_num]} scored {student_grades[student_num+1]}% on the science exam.')"
   ]
  },
  {
   "cell_type": "raw",
   "id": "a9fabd12",
   "metadata": {},
   "source": [
    "Integer n and string my_country are read from input. Then, four strings are read from input and stored in the list country_names. Delete the n-th element of country_names, then replace the first element of country_names with my_country."
   ]
  },
  {
   "cell_type": "code",
   "execution_count": 16,
   "id": "8ca8b6fe",
   "metadata": {},
   "outputs": [
    {
     "name": "stdout",
     "output_type": "stream",
     "text": [
      "2\n",
      "Zambia\n",
      "Denmark Spain China Andorra\n",
      "My favorite countries: ['Zambia', 'China', 'Andorra']\n"
     ]
    }
   ],
   "source": [
    "n = int(input())\n",
    "my_country = input()\n",
    "country_names = input().split()\n",
    "\n",
    "del country_names[n-1]\n",
    "country_names[0] = my_country\n",
    "print(f'My favorite countries: {country_names}')"
   ]
  },
  {
   "cell_type": "raw",
   "id": "d8d3be73",
   "metadata": {},
   "source": [
    "Three strings are read from input and stored in the list country_names. Then, two more strings are read from input and stored in the list added_countries. Create a new list called updated_countries that contains the elements of country_names and added_countries, in that order."
   ]
  },
  {
   "cell_type": "code",
   "execution_count": 19,
   "id": "0289623f",
   "metadata": {},
   "outputs": [
    {
     "name": "stdout",
     "output_type": "stream",
     "text": [
      "France Haiti Yemen\n",
      "Malta Brazil\n",
      "My countries: ['France', 'Haiti', 'Yemen', 'Malta', 'Brazil']\n"
     ]
    }
   ],
   "source": [
    "country_names = input().split()\n",
    "added_countries = input().split()\n",
    "\n",
    "updated_countries = country_names + added_countries\n",
    "\n",
    "print(f'My countries: {updated_countries}')"
   ]
  },
  {
   "cell_type": "markdown",
   "id": "ea760f10",
   "metadata": {},
   "source": [
    "# 8.2 List methods\n",
    "A list method can perform a useful operation on a list such as adding or removing elements, sorting, reversing, etc."
   ]
  },
  {
   "cell_type": "markdown",
   "id": "15c25ee5",
   "metadata": {},
   "source": [
    "## Adding elements"
   ]
  },
  {
   "cell_type": "markdown",
   "id": "65defa34",
   "metadata": {},
   "source": [
    "### list.append(x)\n",
    "Add an item to the end of list.\t"
   ]
  },
  {
   "cell_type": "code",
   "execution_count": 26,
   "id": "5b2f6d4c",
   "metadata": {},
   "outputs": [
    {
     "name": "stdout",
     "output_type": "stream",
     "text": [
      "[5, 8, 16]\n"
     ]
    }
   ],
   "source": [
    "my_list = [5, 8]\n",
    "my_list.append(16)\n",
    "print(my_list)"
   ]
  },
  {
   "cell_type": "markdown",
   "id": "228aca9d",
   "metadata": {},
   "source": [
    "### list.extend([x])\n",
    "Add all items in [x] to list."
   ]
  },
  {
   "cell_type": "code",
   "execution_count": 27,
   "id": "c2b7b5c3",
   "metadata": {},
   "outputs": [
    {
     "name": "stdout",
     "output_type": "stream",
     "text": [
      "[5, 8, 4, 12]\n"
     ]
    }
   ],
   "source": [
    "my_list = [5, 8]\n",
    "my_list.extend([4, 12])\n",
    "print(my_list)"
   ]
  },
  {
   "cell_type": "markdown",
   "id": "5ec87fed",
   "metadata": {},
   "source": [
    "### list.insert(i, x)\n",
    "Insert x into list before position i.\t"
   ]
  },
  {
   "cell_type": "code",
   "execution_count": 28,
   "id": "e4ae6489",
   "metadata": {},
   "outputs": [
    {
     "name": "stdout",
     "output_type": "stream",
     "text": [
      "[5, 1.7, 8]\n"
     ]
    }
   ],
   "source": [
    "my_list = [5, 8]\n",
    "my_list.insert(1, 1.7)\n",
    "print(my_list)"
   ]
  },
  {
   "cell_type": "markdown",
   "id": "18078c04",
   "metadata": {},
   "source": [
    "## Removing elements"
   ]
  },
  {
   "cell_type": "markdown",
   "id": "2a78bd79",
   "metadata": {},
   "source": [
    "### list.remove(x)\n",
    "Remove first item from list with value x."
   ]
  },
  {
   "cell_type": "code",
   "execution_count": 29,
   "id": "1e0614cd",
   "metadata": {},
   "outputs": [
    {
     "name": "stdout",
     "output_type": "stream",
     "text": [
      "[5, 14]\n"
     ]
    }
   ],
   "source": [
    "my_list = [5, 8, 14]\n",
    "my_list.remove(8)\n",
    "print(my_list)"
   ]
  },
  {
   "cell_type": "markdown",
   "id": "41e2e7b4",
   "metadata": {},
   "source": [
    "### list.pop()\n",
    "Remove and return last item in list.\t"
   ]
  },
  {
   "cell_type": "code",
   "execution_count": 31,
   "id": "aee495c6",
   "metadata": {},
   "outputs": [
    {
     "name": "stdout",
     "output_type": "stream",
     "text": [
      "[5, 8]\n"
     ]
    }
   ],
   "source": [
    "my_list = [5, 8, 14]\n",
    "val = my_list.pop()\n",
    "print(my_list)"
   ]
  },
  {
   "cell_type": "markdown",
   "id": "da3c20c0",
   "metadata": {},
   "source": [
    "### list.pop(i)\n",
    "Remove and return item at position i in list."
   ]
  },
  {
   "cell_type": "code",
   "execution_count": 33,
   "id": "ceb0c1a9",
   "metadata": {},
   "outputs": [
    {
     "name": "stdout",
     "output_type": "stream",
     "text": [
      "[8, 14]\n"
     ]
    }
   ],
   "source": [
    "my_list = [5, 8, 14]\n",
    "val = my_list.pop(0)\n",
    "print(my_list)"
   ]
  },
  {
   "cell_type": "markdown",
   "id": "93cc11c0",
   "metadata": {},
   "source": [
    "## Modifying elements"
   ]
  },
  {
   "cell_type": "markdown",
   "id": "1ab07892",
   "metadata": {},
   "source": [
    "### list.sort()\n",
    "Sort the items of list in-place."
   ]
  },
  {
   "cell_type": "code",
   "execution_count": 35,
   "id": "a99c6525",
   "metadata": {},
   "outputs": [
    {
     "name": "stdout",
     "output_type": "stream",
     "text": [
      "[5, 8, 14]\n"
     ]
    }
   ],
   "source": [
    "my_list = [14, 5, 8]\n",
    "my_list.sort()\n",
    "print(my_list)"
   ]
  },
  {
   "cell_type": "markdown",
   "id": "a043c170",
   "metadata": {},
   "source": [
    "### list.reverse()\n",
    "Reverse the elements of list in-place."
   ]
  },
  {
   "cell_type": "code",
   "execution_count": 36,
   "id": "7e618b9a",
   "metadata": {},
   "outputs": [
    {
     "name": "stdout",
     "output_type": "stream",
     "text": [
      "[8, 5, 14]\n"
     ]
    }
   ],
   "source": [
    "my_list = [14, 5, 8]\n",
    "my_list.reverse()\n",
    "print(my_list)"
   ]
  },
  {
   "cell_type": "markdown",
   "id": "14504113",
   "metadata": {},
   "source": [
    "### Miscellaneous"
   ]
  },
  {
   "cell_type": "markdown",
   "id": "4a819b2d",
   "metadata": {},
   "source": [
    "### list.index(x)\n",
    "Return index of first item in list with value x."
   ]
  },
  {
   "cell_type": "code",
   "execution_count": 40,
   "id": "a9046934",
   "metadata": {},
   "outputs": [
    {
     "name": "stdout",
     "output_type": "stream",
     "text": [
      "2\n"
     ]
    }
   ],
   "source": [
    "my_list = [5, 8, 14]\n",
    "print(my_list.index(14))"
   ]
  },
  {
   "cell_type": "markdown",
   "id": "18d67025",
   "metadata": {},
   "source": [
    "### list.count(x)\n",
    "Count the number of times value x is in list."
   ]
  },
  {
   "cell_type": "code",
   "execution_count": 39,
   "id": "b089bc6b",
   "metadata": {},
   "outputs": [
    {
     "name": "stdout",
     "output_type": "stream",
     "text": [
      "3\n"
     ]
    }
   ],
   "source": [
    "my_list = [5, 8, 5, 5, 14]\n",
    "print(my_list.count(5))"
   ]
  },
  {
   "cell_type": "markdown",
   "id": "556681eb",
   "metadata": {},
   "source": [
    "#### CHALLENGE ACTIVITY 8.2.1: List methods"
   ]
  },
  {
   "cell_type": "code",
   "execution_count": 43,
   "id": "24c23ac0",
   "metadata": {},
   "outputs": [
    {
     "name": "stdout",
     "output_type": "stream",
     "text": [
      "53 30 56 15 28\n",
      "Sorted data: [56, 53, 30, 28, 15]\n",
      "Median: 30\n"
     ]
    }
   ],
   "source": [
    "tokens = input().split()\n",
    "data_list = []\n",
    "for token in tokens:\n",
    "    data_list.append(int(token))\n",
    "\n",
    "data_list.sort()\n",
    "data_list.reverse()\n",
    "median_index = len(data_list)//2\n",
    "expt_median = data_list[median_index]\n",
    "\n",
    "print(f'Sorted data: {data_list}')\n",
    "print(f'Median: {expt_median}')"
   ]
  },
  {
   "cell_type": "markdown",
   "id": "6840d9cd",
   "metadata": {},
   "source": [
    "# 8.5 List nesting"
   ]
  },
  {
   "cell_type": "markdown",
   "id": "edbeb131",
   "metadata": {},
   "source": [
    "A list is a single-dimensional sequence of items, like a series of times, data samples, daily temperatures, etc. List nesting allows for a programmer to also create a multi-dimensional data structure, the simplest being a two-dimensional table, like a spreadsheet or tic-tac-toe board. The following code defines a two-dimensional table using nested lists:"
   ]
  },
  {
   "cell_type": "code",
   "execution_count": 44,
   "id": "313b2e39",
   "metadata": {},
   "outputs": [
    {
     "name": "stdout",
     "output_type": "stream",
     "text": [
      "X O X\n",
      "  X  \n",
      "O O X\n"
     ]
    }
   ],
   "source": [
    "tic_tac_toe = [\n",
    "    ['X', 'O', 'X'],\n",
    "    [' ', 'X', ' '],\n",
    "    ['O', 'O', 'X']\n",
    "]\n",
    "\n",
    "print(tic_tac_toe[0][0], tic_tac_toe[0][1], tic_tac_toe[0][2])\n",
    "print(tic_tac_toe[1][0], tic_tac_toe[1][1], tic_tac_toe[1][2])\n",
    "print(tic_tac_toe[2][0], tic_tac_toe[2][1], tic_tac_toe[2][2])"
   ]
  },
  {
   "cell_type": "markdown",
   "id": "8a8391d6",
   "metadata": {},
   "source": [
    "# 8.8 List comprehensions\n",
    "A programmer modifies every element of a list in the same way, such as adding 10 to every element. The Python language provides a convenient construct, known as list comprehension, that iterates over a list, modifies each element, and returns a new list of the modified elements."
   ]
  },
  {
   "cell_type": "markdown",
   "id": "cd1e0270",
   "metadata": {},
   "source": [
    "### Table 8.8.1: List comprehensions can replace some for loops."
   ]
  },
  {
   "cell_type": "markdown",
   "id": "22ec9756",
   "metadata": {},
   "source": [
    "Add 10 to every element."
   ]
  },
  {
   "cell_type": "code",
   "execution_count": 46,
   "id": "8b10d9a0",
   "metadata": {},
   "outputs": [
    {
     "name": "stdout",
     "output_type": "stream",
     "text": [
      "[15, 30, 60]\n"
     ]
    }
   ],
   "source": [
    "# For loop\n",
    "my_list = [5, 20, 50]\n",
    "for i in range(len(my_list)):\n",
    "    my_list[ i ] += 10\n",
    "print(my_list)"
   ]
  },
  {
   "cell_type": "code",
   "execution_count": 47,
   "id": "cf3df40a",
   "metadata": {},
   "outputs": [
    {
     "name": "stdout",
     "output_type": "stream",
     "text": [
      "[15, 30, 60]\n"
     ]
    }
   ],
   "source": [
    "#Equivalent list comprehension\n",
    "my_list = [5, 20, 50]\n",
    "my_list = [(i+10) for i in my_list]\n",
    "print(my_list)"
   ]
  },
  {
   "cell_type": "markdown",
   "id": "5c78d4d2",
   "metadata": {},
   "source": [
    "Convert every element to a string."
   ]
  },
  {
   "cell_type": "code",
   "execution_count": 48,
   "id": "e26ad502",
   "metadata": {},
   "outputs": [
    {
     "name": "stdout",
     "output_type": "stream",
     "text": [
      "['5', '20', '50']\n"
     ]
    }
   ],
   "source": [
    "# For Loop\n",
    "my_list = [5, 20, 50]\n",
    "for i in range(len(my_list)):\n",
    "    my_list[ i ] = str(my_list[ i ])\n",
    "print(my_list)"
   ]
  },
  {
   "cell_type": "code",
   "execution_count": 49,
   "id": "dfc8af1f",
   "metadata": {},
   "outputs": [
    {
     "name": "stdout",
     "output_type": "stream",
     "text": [
      "['5', '20', '50']\n"
     ]
    }
   ],
   "source": [
    "#Equivalent list comprehension\t\n",
    "my_list = [5, 20, 50]\n",
    "my_list = [str(i) for i in my_list]\n",
    "print(my_list)"
   ]
  },
  {
   "cell_type": "markdown",
   "id": "86011be0",
   "metadata": {},
   "source": [
    "Convert user input to a list of integers."
   ]
  },
  {
   "cell_type": "code",
   "execution_count": 50,
   "id": "f0aa8e17",
   "metadata": {},
   "outputs": [
    {
     "name": "stdout",
     "output_type": "stream",
     "text": [
      "Enter numbers:123\n",
      "[123]\n"
     ]
    }
   ],
   "source": [
    "inp = input('Enter numbers:')\n",
    "my_list = [int(i) for i in inp.split()]\n",
    "print(my_list)"
   ]
  },
  {
   "cell_type": "markdown",
   "id": "9458b86b",
   "metadata": {},
   "source": [
    "Find the sum of each row in a two-dimensional list."
   ]
  },
  {
   "cell_type": "code",
   "execution_count": 51,
   "id": "605ef754",
   "metadata": {},
   "outputs": [
    {
     "name": "stdout",
     "output_type": "stream",
     "text": [
      "[30, 21, 100]\n"
     ]
    }
   ],
   "source": [
    "my_list = [[5, 10, 15], [2, 3, 16], [100]]\n",
    "sum_list = [sum(row) for row in my_list]\n",
    "print(sum_list)"
   ]
  },
  {
   "cell_type": "markdown",
   "id": "8c8b4242",
   "metadata": {},
   "source": [
    "Find the sum of the row with the smallest sum in a two-dimensional table."
   ]
  },
  {
   "cell_type": "code",
   "execution_count": 52,
   "id": "2ed82efd",
   "metadata": {},
   "outputs": [
    {
     "name": "stdout",
     "output_type": "stream",
     "text": [
      "21\n"
     ]
    }
   ],
   "source": [
    "my_list = [[5, 10, 15], [2, 3, 16], [100]]\n",
    "min_row = min([sum(row) for row in my_list])\n",
    "print(min_row)"
   ]
  },
  {
   "cell_type": "markdown",
   "id": "621928a7",
   "metadata": {},
   "source": [
    "## Conditional list comprehensions\n",
    "new_list = [expression for name in iterable if condition]"
   ]
  },
  {
   "cell_type": "code",
   "execution_count": 53,
   "id": "dc2d3a41",
   "metadata": {},
   "outputs": [
    {
     "name": "stdout",
     "output_type": "stream",
     "text": [
      "Enter numbers:5 52 16 7 25\n",
      "Even numbers only: [52, 16]\n"
     ]
    }
   ],
   "source": [
    "# Get a list of integers from the user\n",
    "numbers = [int(i) for i in input('Enter numbers:').split()]\n",
    "\n",
    "# Return a list of only even numbers\n",
    "even_numbers = [i for i in numbers if (i % 2) == 0]\n",
    "print(f'Even numbers only: {even_numbers}')"
   ]
  },
  {
   "cell_type": "markdown",
   "id": "6609c39a",
   "metadata": {},
   "source": [
    "# 8.9 Sorting lists\n",
    "\n",
    "The sort() method performs in-place modification of a list. Following execution of the statement my_list.sort(), the contents of my_list are rearranged. The sorted() built-in function provides the same sorting functionality as the list.sort() method, however, sorted() creates and returns a new list instead of modifying an existing list."
   ]
  },
  {
   "cell_type": "markdown",
   "id": "e84bb2c6",
   "metadata": {},
   "source": [
    "Sorting also supports the reverse argument. The reverse argument can be set to a Boolean value, either True or False. Setting reverse=True flips the sorting from lowest-to-highest to highest-to-lowest. "
   ]
  },
  {
   "cell_type": "code",
   "execution_count": 54,
   "id": "831470b0",
   "metadata": {},
   "outputs": [
    {
     "data": {
      "text/plain": [
       "[25, 20, 15]"
      ]
     },
     "execution_count": 54,
     "metadata": {},
     "output_type": "execute_result"
    }
   ],
   "source": [
    "sorted([15, 20, 25], reverse=True) #produces a list with the elements [25, 20, 15]."
   ]
  },
  {
   "cell_type": "raw",
   "id": "57072b47",
   "metadata": {},
   "source": [
    "Arrange the elements of x from lowest to highest, comparing the upper-case variant of each element in the list.\n"
   ]
  },
  {
   "cell_type": "code",
   "execution_count": 62,
   "id": "5aa03b58",
   "metadata": {},
   "outputs": [
    {
     "name": "stdout",
     "output_type": "stream",
     "text": [
      "['grape', 'Orange']\n"
     ]
    }
   ],
   "source": [
    "x = [\"Orange\", \"grape\"]\n",
    "x.sort(key=str.upper)\n",
    "print(x)"
   ]
  },
  {
   "cell_type": "markdown",
   "id": "b984d8f8",
   "metadata": {},
   "source": [
    "# 8.10 Command-line arguments\n",
    "Command-line arguments are values entered by a user when running a program from a command line. A command line exists in some program execution environments in which a user can run a program by typing at a command prompt. Ex: To run a Python program named \"myprog.py\" with an argument specifying the location of a file named \"myfile1.txt\", the user enters the following at the command prompt:"
   ]
  },
  {
   "cell_type": "code",
   "execution_count": 65,
   "id": "b9106768",
   "metadata": {},
   "outputs": [
    {
     "name": "stdout",
     "output_type": "stream",
     "text": [
      "python: can't open file '/Users/cee/Documents/Grossmont_Classes/CSIS-250-Python/myprog.py': [Errno 2] No such file or directory\r\n"
     ]
    }
   ],
   "source": [
    "!python myprog.py myfile1.txt"
   ]
  },
  {
   "cell_type": "markdown",
   "id": "5bcad392",
   "metadata": {},
   "source": [
    "The contents of this command line are automatically stored in the list sys.argv, which is stored in the standard library sys module. sys.argv consists of one string element for each argument typed on the command line.\n",
    "\n",
    "When executing a program, the interpreter parses the entire command line to find all sequences of characters separated by whitespace, storing each as a string within the list variable argv. As the entire command line is passed to the program, the name of the program executable is always added as the first element of the list. Ex: For a command line of python myprog.py myfile1.txt, argv has the contents ['myprog.py', 'myfile1.txt']."
   ]
  },
  {
   "cell_type": "markdown",
   "id": "6d931dcd",
   "metadata": {},
   "source": [
    "### Figure 8.10.1: Simple use of command line argument"
   ]
  },
  {
   "cell_type": "code",
   "execution_count": 67,
   "id": "093ef74f",
   "metadata": {},
   "outputs": [
    {
     "name": "stdout",
     "output_type": "stream",
     "text": [
      "Writing myprog.py\n"
     ]
    }
   ],
   "source": [
    "%%writefile myprog.py  \n",
    "import sys\n",
    "\n",
    "name = sys.argv[1]\n",
    "age = int(sys.argv[2])\n",
    "\n",
    "print(f'Hello {name}.')\n",
    "print(f'{age} is a great age.\\n')"
   ]
  },
  {
   "cell_type": "code",
   "execution_count": 68,
   "id": "1191bdd1",
   "metadata": {},
   "outputs": [
    {
     "name": "stdout",
     "output_type": "stream",
     "text": [
      "Hello Tricia.\r\n",
      "12 is a great age.\r\n",
      "\r\n"
     ]
    }
   ],
   "source": [
    "!python myprog.py Tricia 12"
   ]
  },
  {
   "cell_type": "markdown",
   "id": "7f5ee7ec",
   "metadata": {},
   "source": [
    "when a program uses command-line arguments, a good practice is to always check the length of argv at the beginning of the program to ensure that the user entered the correct number of arguments."
   ]
  },
  {
   "cell_type": "code",
   "execution_count": 70,
   "id": "16ea9d89",
   "metadata": {},
   "outputs": [
    {
     "name": "stdout",
     "output_type": "stream",
     "text": [
      "Overwriting myprog.py\n"
     ]
    }
   ],
   "source": [
    "%%writefile myprog.py  \n",
    "import sys\n",
    "\n",
    "if len(sys.argv) != 3:\n",
    "    print('Usage: python myprog.py name age\\n')\n",
    "    sys.exit(1)  # Exit the program, indicating an error with 1.\n",
    "\n",
    "name = sys.argv[1]\n",
    "age = int(sys.argv[2])\n",
    "\n",
    "print(f'Hello {name}. ')\n",
    "print(f'{age} is a great age.\\n')"
   ]
  },
  {
   "cell_type": "code",
   "execution_count": 71,
   "id": "cffd7649",
   "metadata": {},
   "outputs": [
    {
     "name": "stdout",
     "output_type": "stream",
     "text": [
      "Usage: python myprog.py name age\r\n",
      "\r\n"
     ]
    }
   ],
   "source": [
    "!python myprog.py Franco"
   ]
  },
  {
   "cell_type": "markdown",
   "id": "eee97e13",
   "metadata": {},
   "source": [
    "# 8.12 Dictionaries\n",
    "Dictionaries contain references to objects as key-value pairs — each key in the dictionary is associated with a value, much like each word in an English language dictionary is associated with a definition. As of Python 3.7, dictionary elements maintain their insertion order. The dict type implements a dictionary in Python."
   ]
  },
  {
   "cell_type": "code",
   "execution_count": 72,
   "id": "52b95392",
   "metadata": {},
   "outputs": [],
   "source": [
    "my_dict = {\n",
    "    'Bobby': 'A+',\n",
    "    'Alan': 67,\n",
    "    10: 5.0\n",
    "}"
   ]
  },
  {
   "cell_type": "code",
   "execution_count": 73,
   "id": "3b7969cf",
   "metadata": {},
   "outputs": [
    {
     "data": {
      "text/plain": [
       "67"
      ]
     },
     "execution_count": 73,
     "metadata": {},
     "output_type": "execute_result"
    }
   ],
   "source": [
    "my_dict['Alan']"
   ]
  },
  {
   "cell_type": "raw",
   "id": "ac8bc86a",
   "metadata": {},
   "source": [
    "There are several approaches to create a dict:\n",
    "\n",
    "The first approach wraps braces { } around key-value pairs of literals and/or variables: {'Jose': 'A+', 'Gino': 'C-'} creates a dictionary with two keys, 'Jose' and 'Gino', that are associated with the grades 'A+' and 'C-', respectively.\n",
    "The second approach uses dictionary comprehension, which evaluates a loop to create a new dictionary, similar to how list comprehension creates a new list. Dictionary comprehension is out of scope for this material.\n",
    "Other approaches use the dict() built-in function, using either keyword arguments to specify the key-value pairs or by specifying a list of tuple pairs. "
   ]
  },
  {
   "cell_type": "code",
   "execution_count": 76,
   "id": "f31dde8a",
   "metadata": {},
   "outputs": [
    {
     "data": {
      "text/plain": [
       "{'Bobby': '805-555-2232', 'Johnny': '951-555-0055'}"
      ]
     },
     "execution_count": 76,
     "metadata": {},
     "output_type": "execute_result"
    }
   ],
   "source": [
    "#The following creates equivalent dictionaries:\n",
    "dict(Bobby='805-555-2232', Johnny='951-555-0055')"
   ]
  },
  {
   "cell_type": "code",
   "execution_count": 77,
   "id": "cb3e057e",
   "metadata": {},
   "outputs": [
    {
     "data": {
      "text/plain": [
       "{'Bobby': '805-555-2232', 'Johnny': '951-555-0055'}"
      ]
     },
     "execution_count": 77,
     "metadata": {},
     "output_type": "execute_result"
    }
   ],
   "source": [
    "dict([('Bobby', '805-555-2232'), ('Johnny', '951-555-0055')])"
   ]
  },
  {
   "cell_type": "markdown",
   "id": "6f4433fb",
   "metadata": {},
   "source": [
    "#### my_dict[key]\n",
    "Indexing operation — retrieves the value associated with key.\t"
   ]
  },
  {
   "cell_type": "code",
   "execution_count": 84,
   "id": "59a909b9",
   "metadata": {},
   "outputs": [
    {
     "name": "stdout",
     "output_type": "stream",
     "text": [
      "A+\n"
     ]
    }
   ],
   "source": [
    "my_dict = {'Jose': 'A+', 'Gino': 'C-'}\n",
    "jose_grade = my_dict['Jose']\n",
    "print(jose_grade)"
   ]
  },
  {
   "cell_type": "markdown",
   "id": "50959ffc",
   "metadata": {},
   "source": [
    "#### my_dict[key] = value\n",
    "Adds an entry if the entry does not exist, else modifies the existing entry."
   ]
  },
  {
   "cell_type": "code",
   "execution_count": 87,
   "id": "28f7422e",
   "metadata": {},
   "outputs": [
    {
     "name": "stdout",
     "output_type": "stream",
     "text": [
      "{'Gino': 'C-', 'Jose': 'B+'}\n"
     ]
    }
   ],
   "source": [
    "my_dict['Jose'] = 'B+'\n",
    "print(my_dict)"
   ]
  },
  {
   "cell_type": "markdown",
   "id": "e5431a96",
   "metadata": {},
   "source": [
    "#### del my_dict[key]\n",
    "Deletes the key from a dict"
   ]
  },
  {
   "cell_type": "code",
   "execution_count": 88,
   "id": "949c27f9",
   "metadata": {},
   "outputs": [
    {
     "name": "stdout",
     "output_type": "stream",
     "text": [
      "{'Gino': 'C-'}\n"
     ]
    }
   ],
   "source": [
    "del my_dict['Jose']\n",
    "print(my_dict)"
   ]
  },
  {
   "cell_type": "markdown",
   "id": "0fe38a48",
   "metadata": {},
   "source": [
    "#### key in my_dict\n",
    "Tests for existence of key in my_dict.\t"
   ]
  },
  {
   "cell_type": "code",
   "execution_count": 93,
   "id": "c0cc1922",
   "metadata": {},
   "outputs": [],
   "source": [
    "if 'Jose' in my_dict: print(\"True\")"
   ]
  },
  {
   "cell_type": "markdown",
   "id": "02ecc30b",
   "metadata": {},
   "source": [
    "# 8.13 Dictionary methods\n",
    "A dictionary method is a function provided by the dictionary type (dict) that operates on a specific dictionary object. Dictionary methods can perform useful operations, such as adding or removing elements, obtaining all the keys or values in the dictionary, merging dictionaries, etc."
   ]
  },
  {
   "cell_type": "markdown",
   "id": "6798de4c",
   "metadata": {},
   "source": [
    "### my_dict.clear()\n",
    "Removes all items from the dictionary."
   ]
  },
  {
   "cell_type": "code",
   "execution_count": 100,
   "id": "258909a2",
   "metadata": {},
   "outputs": [
    {
     "name": "stdout",
     "output_type": "stream",
     "text": [
      "{}\n"
     ]
    }
   ],
   "source": [
    "my_dict = {'Ahmad': 1, 'Jane': 42}\n",
    "my_dict.clear()\n",
    "print(my_dict)"
   ]
  },
  {
   "cell_type": "markdown",
   "id": "5eb7419d",
   "metadata": {},
   "source": [
    "### my_dict.get(key, default)\n",
    "Reads the value of the key from the dictionary. If the key does not exist in the dictionary, then returns default."
   ]
  },
  {
   "cell_type": "code",
   "execution_count": 101,
   "id": "1f9064b0",
   "metadata": {},
   "outputs": [
    {
     "name": "stdout",
     "output_type": "stream",
     "text": [
      "42\n",
      "N/A\n"
     ]
    }
   ],
   "source": [
    "my_dict = {'Ahmad': 1, 'Jane': 42}\n",
    "print(my_dict.get('Jane', 'N/A'))\n",
    "print(my_dict.get('Chad', 'N/A'))"
   ]
  },
  {
   "cell_type": "markdown",
   "id": "e44c5a1a",
   "metadata": {},
   "source": [
    "### my_dict1.update(my_dict2)\n",
    "Merges dictionary my_dict1 with another dictionary my_dict2. Existing entries in my_dict1 are overwritten if the same keys exist in my_dict2."
   ]
  },
  {
   "cell_type": "code",
   "execution_count": 102,
   "id": "40d95d8f",
   "metadata": {},
   "outputs": [
    {
     "name": "stdout",
     "output_type": "stream",
     "text": [
      "{'Ahmad': 1, 'Jane': 42, 'John': 50}\n"
     ]
    }
   ],
   "source": [
    "my_dict = {'Ahmad': 1, 'Jane': 42}\n",
    "my_dict.update({'John': 50})\n",
    "print(my_dict)"
   ]
  },
  {
   "cell_type": "markdown",
   "id": "c6f416ce",
   "metadata": {},
   "source": [
    "### my_dict.pop(key, default)\n",
    "Removes and returns the key value from the dictionary. If key does not exist, then default is returned."
   ]
  },
  {
   "cell_type": "code",
   "execution_count": 104,
   "id": "cb974869",
   "metadata": {},
   "outputs": [
    {
     "name": "stdout",
     "output_type": "stream",
     "text": [
      "1\n",
      "{'Jane': 42}\n"
     ]
    }
   ],
   "source": [
    "my_dict = {'Ahmad': 1, 'Jane': 42}\n",
    "val = my_dict.pop('Ahmad')\n",
    "print(val)\n",
    "print(my_dict)"
   ]
  },
  {
   "cell_type": "code",
   "execution_count": null,
   "id": "1beb8bfb",
   "metadata": {},
   "outputs": [],
   "source": []
  }
 ],
 "metadata": {
  "kernelspec": {
   "display_name": "Python 3 (ipykernel)",
   "language": "python",
   "name": "python3"
  },
  "language_info": {
   "codemirror_mode": {
    "name": "ipython",
    "version": 3
   },
   "file_extension": ".py",
   "mimetype": "text/x-python",
   "name": "python",
   "nbconvert_exporter": "python",
   "pygments_lexer": "ipython3",
   "version": "3.9.7"
  }
 },
 "nbformat": 4,
 "nbformat_minor": 5
}
