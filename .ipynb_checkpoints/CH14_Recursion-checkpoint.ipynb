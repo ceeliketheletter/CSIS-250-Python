{
 "cells": [
  {
   "cell_type": "markdown",
   "id": "902f7d9e",
   "metadata": {},
   "source": [
    "# 14.1 Recursive functions\n",
    "A function may call other functions, including calling itself. A function that calls itself is known as a recursive function. "
   ]
  },
  {
   "cell_type": "markdown",
   "id": "29ead2a8",
   "metadata": {},
   "source": [
    "# 14.2 Recursive algorithm: Search\n",
    "Consider a guessing game program where a friend thinks of a number from 0-100 and you try to guess the number, with the friend telling you to guess higher or lower until you guess correctly. What algorithm would you use to minimize the number of guesses? An algorithm that simply guesses in increments of 1 -- Is it 0? Is it 1? Is it 2? -- requires too many guesses (50 on average). An algorithm that guesses by 10s and then by 1s -- Is it 10? Higher: Is it 20? Higher: Is it 30? Lower: Is it 21? 22? 23? -- does better but still requires about 10 guesses on average (5 to find the correct tens digit and 5 to guess the correct ones digit). An even better algorithm uses a binary search approach, guessing the midpoint of the range and halving the range after each guess -- Is it 50 (the middle of 0-100)? Lower: Is it 25 (the middle of 0-50)? Higher: Is it 38 (the middle of 26-50)? Lower: Is it 32 (the middle of 26-38). After each guess, the binary search algorithm is applied again, just on a smaller range, i.e., the algorithm is recursive. "
   ]
  },
  {
   "cell_type": "markdown",
   "id": "670266de",
   "metadata": {},
   "source": [
    "### CHALLENGE ACTIVITY\n",
    "14.2.1: Recursive algorithm: Search."
   ]
  },
  {
   "cell_type": "raw",
   "id": "860fb595",
   "metadata": {},
   "source": [
    "Alphabetically sorted strings are read from input into a list. Complete the find_word() function, which outputs range_size, mid_index, and the element at mid_index:\n",
    "\n",
    "Assign range_size with the total number of list elements from min_index to max_index (both inclusive).\n",
    "Assign mid_index with the result of dividing the sum of min_index and max_index by 2 using floor division (//).\n",
    "Click here for example\n",
    "Ex: If the input is jaw lyn man old say, then the output is:\n",
    "Number of elements in the range: 5\n",
    "Middle index: 2\n",
    "Element at middle index: man"
   ]
  },
  {
   "cell_type": "code",
   "execution_count": 1,
   "id": "481c3680",
   "metadata": {},
   "outputs": [
    {
     "name": "stdout",
     "output_type": "stream",
     "text": [
      "jaw lyn man old say\n",
      "Number of elements in the range: 5\n",
      "Middle index: 2\n",
      "Element at middle index: man\n"
     ]
    }
   ],
   "source": [
    "def find_word(word_items, min_index, max_index):\n",
    "\n",
    "    ''' Your code goes here '''\n",
    "    range_size = max_index - min_index + 1  #new code\n",
    "    mid_index = (min_index + max_index) // 2  #new code\n",
    "\n",
    "    print(f'Number of elements in the range: {range_size}')\n",
    "    print(f'Middle index: {mid_index}')\n",
    "    print(f'Element at middle index: {word_items[mid_index]}')\n",
    "\n",
    "data_list = input().split()\n",
    "find_word(data_list, 0, len(data_list) - 1)"
   ]
  },
  {
   "cell_type": "raw",
   "id": "b11e3435",
   "metadata": {},
   "source": [
    "String query_item and a list of alphabetically sorted strings are read from input. Complete the find() function:\n",
    "\n",
    "If query_item is found at index middle_index of the list, output query_item, followed by ' is found at index ' and the value of middle_index.\n",
    "Else if range_size is 1, output query_item, followed by ' is not in the list'.\n",
    "Otherwise, output query_item, followed by ' is not found at index ' and the value of middle_index.\n",
    "Click here for example\n",
    "Note:\n",
    "\n",
    "string1 == string2 returns True if the two strings are the same, and returns False otherwise.\n",
    "No recursive call is needed."
   ]
  },
  {
   "cell_type": "code",
   "execution_count": 4,
   "id": "ab6f94ac",
   "metadata": {},
   "outputs": [
    {
     "name": "stdout",
     "output_type": "stream",
     "text": [
      "LIE is found at index 3\n"
     ]
    }
   ],
   "source": [
    "def find(search_list, query_item, lower_index, upper_index):\n",
    "    range_size = (upper_index - lower_index) + 1\n",
    "    middle_index = (lower_index + upper_index) // 2\n",
    "\n",
    "    ''' Your code goes here '''\n",
    "    if search_list[middle_index] == query_item:\n",
    "        print(f\"{query_item} is found at index {middle_index}\")\n",
    "    elif range_size == 1:\n",
    "        print(f\"{query_item} is not in the list\")\n",
    "    else:\n",
    "        print(f\"{query_item} is not found at index {middle_index}\")\n",
    "\n",
    "query_item = \"LIE\" #input()\n",
    "data_list = \"AFG KHM LBR LIE NIC PHL SDN SRB\".split()\n",
    "find(data_list, query_item, 0, len(data_list) - 1)"
   ]
  },
  {
   "cell_type": "raw",
   "id": "8d3c5436",
   "metadata": {},
   "source": [
    "String nation_to_find and a list of alphabetically sorted strings are read from input. Complete the find_match() function:\n",
    "\n",
    "If nation_to_find is alphabetically before mid_value (the element at index mid_index of the list), output 'Search lower half' and recursively call find_match() to find nation_to_find in the lower half of the range.\n",
    "Otherwise, output 'Search upper half' and recursively call find_match() to find nation_to_find in the upper half of the range.\n",
    "Click here for example\n",
    "Note: string1 < string2 returns True if string1 is alphabetically before string2, and returns False otherwise."
   ]
  },
  {
   "cell_type": "code",
   "execution_count": 9,
   "id": "c0713aa2",
   "metadata": {},
   "outputs": [
    {
     "name": "stdout",
     "output_type": "stream",
     "text": [
      "Search upper half\n",
      "Search upper half\n",
      "TUN is found at index 4\n"
     ]
    }
   ],
   "source": [
    "def find_match(all_nations, nation_to_find, start_index, end_index):\n",
    "    range_size = (end_index - start_index) + 1\n",
    "    mid_index = (start_index + end_index) // 2\n",
    "    mid_value = all_nations[mid_index]\n",
    "\n",
    "    if nation_to_find == mid_value:\n",
    "        print(f'{nation_to_find} is found at index {mid_index}')\n",
    "    elif range_size == 1:\n",
    "        print(f'{nation_to_find} is not in the list')\n",
    "    else:\n",
    "\n",
    "        ''' Your code goes here '''\n",
    "        if nation_to_find < mid_value:\n",
    "            print('Search lower half')\n",
    "            find_match(all_nations, nation_to_find, start_index, mid_index)\n",
    "        else:\n",
    "            print('Search upper half')\n",
    "            find_match(all_nations, nation_to_find, mid_index + 1, end_index)\n",
    "\n",
    "nation_to_find = \"TUN\" #input()\n",
    "data_list = \"IND ITA LSO SSD TUN\".split()\n",
    "find_match(data_list, nation_to_find, 0, len(data_list) - 1)"
   ]
  },
  {
   "cell_type": "markdown",
   "id": "c84d4233",
   "metadata": {},
   "source": [
    "# 14.3 Adding output statements for debugging\n",
    "Recursive functions can be particularly challenging to debug. Adding output statements can be helpful. Furthermore, an additional trick is to indent the print statements to show the current depth of recursion. The following program adds a parameter indent to a find() function that searches a sorted list for an item. All of the find() function's print statements start with \"print indent, ...\". The indent variable is typically some number of spaces. The script sets indent to three spaces \" \". Each recursive call adds three more spaces. Note how the output now clearly shows the recursion depth."
   ]
  },
  {
   "cell_type": "code",
   "execution_count": 11,
   "id": "9fb30cd2",
   "metadata": {},
   "outputs": [
    {
     "name": "stdout",
     "output_type": "stream",
     "text": [
      "Enter person's name: Last, First: Meeks, Stan\n",
      "    find() range 0 4\n",
      "    Searching upper half.\n",
      "       find() range 3 4\n",
      "       Searching upper half.\n",
      "          find() range 4 4\n",
      "          Person not found.\n",
      "          Returning pos = -1.\n",
      "       Returning pos = -1.\n",
      "    Returning pos = -1.\n",
      "Not found.\n"
     ]
    }
   ],
   "source": [
    "def find(lst, item, low, high, indent):\n",
    "    \"\"\"\n",
    "    Finds index of string in list of strings, else -1.\n",
    "    Searches only the index range low to high\n",
    "    Note: Upper/Lower case characters matter\n",
    "    \"\"\"\n",
    "    print(f'{indent} find() range {low} {high}')\n",
    "    range_size = (high - low) + 1\n",
    "    mid = (high + low) // 2\n",
    "\n",
    "    if item == lst[mid]:  # Base case 1: Found at mid\n",
    "        print(f'{indent} Found person.')\n",
    "        pos = mid\n",
    "    elif range_size == 1:  # Base case 2: Not found\n",
    "        print(f'{indent} Person not found.')\n",
    "        pos = -1\n",
    "    else:  # Recursive search: Search lower or upper half\n",
    "        if item < lst[mid]:  # Search lower half\n",
    "            print(f'{indent} Searching lower half.')\n",
    "            pos = find(lst, item, low, mid, indent + '   ')\n",
    "        else:  # Search upper half\n",
    "            print(f'{indent} Searching upper half.')\n",
    "            pos = find(lst, item, mid+1, high, indent + '   ')\n",
    "\n",
    "    print(f'{indent} Returning pos = {pos}.')\n",
    "    return pos\n",
    "\n",
    "attendees = []\n",
    "\n",
    "attendees.append('Adams, Mary')\n",
    "attendees.append('Carver, Michael')\n",
    "attendees.append('Domer, Hugo')\n",
    "attendees.append('Fredericks, Carlo')\n",
    "attendees.append('Li, Jie')\n",
    "\n",
    "name = input(\"Enter person's name: Last, First: \")\n",
    "pos = find(attendees, name, 0, len(attendees)-1, '   ')\n",
    "\n",
    "if pos >= 0:\n",
    "    print(f'Found at position {pos}.')\n",
    "else:\n",
    "    print( 'Not found.')"
   ]
  },
  {
   "cell_type": "markdown",
   "id": "fc618114",
   "metadata": {},
   "source": [
    "Some programmers like to leave the output statements in the code, commenting them out with \"#\" when not in use. The statements actually serve as a form of comment. More advanced techniques for handling debug output exist too, such as the logging Python standard library (beyond this section's scope)."
   ]
  },
  {
   "cell_type": "markdown",
   "id": "9542650c",
   "metadata": {},
   "source": [
    "### zyDE 14.3.1: Output statements in a recursive function.\n",
    "Run the recursive find program having the output statements for debugging, searching for \"Aaron, Joe\", and observe the correct output indicating the person is not found. Next, introduce an error in the algorithm by changing \"pos = -1\" to \"pos = 0\" in the base case where the person is not found. Run the program again and notice how the indented print statements helps you isolate the error; in particular, note how the \"Person not found\" output is followed by \"Returning pos = 0\", which may lead one to realize the wrong value is being returned. Try instead introducing different errors and seeing how the indented print statements might help.\n"
   ]
  },
  {
   "cell_type": "code",
   "execution_count": 12,
   "id": "71ea0103",
   "metadata": {},
   "outputs": [
    {
     "name": "stdout",
     "output_type": "stream",
     "text": [
      "Enter person's name: Last, First: Aaron, Joe\n",
      "    find() range 0 4\n",
      "    Searching lower half.\n",
      "       find() range 0 2\n",
      "       Searching lower half.\n",
      "          find() range 0 1\n",
      "          Searching lower half.\n",
      "             find() range 0 0\n",
      "             Person not found.\n",
      "             Returning pos = -1.\n",
      "          Returning pos = -1.\n",
      "       Returning pos = -1.\n",
      "    Returning pos = -1.\n",
      "Not found.\n"
     ]
    }
   ],
   "source": [
    "def find(lst, item, low, high, indent):\n",
    "   \"\"\"\n",
    "   Finds index of string in list of strings, else -1.\n",
    "   Searches only the index range low to high\n",
    "   Note: Upper/Lower case characters matter\n",
    "   \"\"\"\n",
    "   print(f'{indent} find() range {low} {high}')\n",
    "   range_size = (high - low) + 1\n",
    "   mid = (high + low) // 2\n",
    "   if item == lst[mid]:  # Base case 1: Found at mid\n",
    "       print(f'{indent} Found person.')\n",
    "       pos = mid\n",
    "   elif range_size == 1:  # Base case 2: Not found\n",
    "       print(f'{indent} Person not found.')\n",
    "       pos = -1\n",
    "   else:  # Recursive search: Search lower or upper half\n",
    "       if item < lst[mid]:  # Search lower half\n",
    "           print(f'{indent} Searching lower half.')\n",
    "           pos = find(lst, item, low, mid, indent + '   ')\n",
    "       else:  # Search upper half\n",
    "           print(f'{indent} Searching upper half.')\n",
    "           pos = find(lst, item, mid+1, high, indent + '   ')\n",
    "   print(indent, f'Returning pos = {pos}.')\n",
    "   return pos\n",
    "attendees = []\n",
    "attendees.append('Adams, Mary')\n",
    "attendees.append('Carver, Michael')\n",
    "attendees.append('Domer, Hugo')\n",
    "attendees.append('Fredericks, Carlo')\n",
    "attendees.append('Li, Jie')\n",
    "name = input(\"Enter person's name: Last, First: \")\n",
    "pos = find(attendees, name, 0, len(attendees)-1, '   ')\n",
    "if pos >= 0:\n",
    "   print(f'Found at position {pos}.')\n",
    "else:\n",
    "   print( 'Not found.')\n"
   ]
  },
  {
   "cell_type": "markdown",
   "id": "dafbd585",
   "metadata": {},
   "source": [
    "# 14.4 Creating a recursive function\n",
    "Creating a recursive function can be accomplished in two steps.\n",
    "\n",
    "Write base case -- Every recursive function must have a case that returns a value without performing a recursive call. That case is called the base case. A programmer may write that part of the function first, and then test. There may be multiple base cases.\n",
    "\n",
    "Write recursive case -- The programmer then adds the recursive case to the function.\n",
    "\n",
    "The following illustrates for a simple function that computes the factorial of N (N!). The base case is n=1 or 1!, which evaluates to 1. The recursive case is n*nfact(n-1), which is written and tested. Note: Factorial is not necessarily a good candidate for a recursive function, because a non-recursive version using a loop is so simple; however, factorial makes a simple example for demonstrating recursion. Actually useful cases for recursion are rarer in Python than for other programming languages, since Python programmers tend to prefer more natural iterative loop structures. Typically, recursion is useful when dealing with data structures of unknown size and connectivity, properties most commonly associated with tree-shaped data structures."
   ]
  },
  {
   "cell_type": "markdown",
   "id": "1bc48383",
   "metadata": {},
   "source": [
    "### PARTICIPATION ACTIVITY\n",
    "14.4.1: Writing a recursive function for factorial: First writing the base case, then adding the recursive case.\n",
    "\n",
    "The following illustrates for a simple function that computes the factorial of N (N!). The base case is n=1 or 1!, which evaluates to 1. The recursive case is n*nfact(n-1), which is written and tested. Note: Factorial is not necessarily a good candidate for a recursive function, because a non-recursive version using a loop is so simple; however, factorial makes a simple example for demonstrating recursion. Actually useful cases for recursion are rarer in Python than for other programming languages, since Python programmers tend to prefer more natural iterative loop structures. Typically, recursion is useful when dealing with data structures of unknown size and connectivity, properties most commonly associated with tree-shaped data structures."
   ]
  },
  {
   "cell_type": "code",
   "execution_count": 18,
   "id": "d054c2b5",
   "metadata": {},
   "outputs": [
    {
     "name": "stdout",
     "output_type": "stream",
     "text": [
      "Enter N: 6\n",
      "N! is: 720\n"
     ]
    }
   ],
   "source": [
    "def nfact(n):\n",
    "    fact = 0\n",
    "    if n == 1 or n == 0:  # Base case\n",
    "        fact = 1\n",
    "    else:       # Recursive case\n",
    "        fact = n * nfact(n-1)\n",
    "    return fact\n",
    " \n",
    "n = int(input(\"Enter N: \"))\n",
    "print(\"N! is:\", nfact(n))"
   ]
  },
  {
   "cell_type": "markdown",
   "id": "b7b1059e",
   "metadata": {},
   "source": [
    "Before writing a recursive function, a programmer should determine: (1) Whether the problem has a naturally recursive solution, and (2) whether that solution is better than a non-recursive solution. For example, computing E = M*C*C doesn't seem to have a natural recursive solution. Computing n! (n factorial) does have a natural recursive solution, but a recursive solution is not better than a non-recursive solution that simply uses a loop, as in for i in range(n, 0, -1): result *= ifactorial Binary search has a natural recursive solution, and that solution may be easier to understand than a non-recursive solution.\n",
    "\n",
    "A common error is to not cover all possible base cases in a recursive function. Another common error is to write a recursive function that doesn't always reach a base case. Both errors may lead to infinite recursion, causing the program to fail.\n",
    "\n",
    "Commonly, programmers will use two functions for recursion. An \"outer\" function is intended to be called from other parts of the program, like the function \"factorial(n)\". An \"inner\" function is intended only to be called from that outer function, like the function \" _factorial(n)\" (note the \"_\"). The outer function may check for a valid input value, e.g., ensuring n is not negative, and then calling the inner function. Commonly, the inner function has parameters that are mainly of use as part of the recursion, and need not be part of the outer function, thus keeping the outer function more intuitive."
   ]
  },
  {
   "cell_type": "markdown",
   "id": "6b27e5fb",
   "metadata": {},
   "source": [
    "### CHALLENGE ACTIVITY 14.4.1: Creating a recursive function.\n",
    "Write get_powers()'s base case to output '3 to the power of 0 is 1' and return 1 if in_value is equal to 0."
   ]
  },
  {
   "cell_type": "code",
   "execution_count": 21,
   "id": "f0060da6",
   "metadata": {},
   "outputs": [
    {
     "name": "stdout",
     "output_type": "stream",
     "text": [
      "3\n",
      "3 to the power of 0 is 1\n",
      "3 to the power of 1 is 3\n",
      "3 to the power of 2 is 9\n",
      "3 to the power of 3 is 27\n"
     ]
    },
    {
     "data": {
      "text/plain": [
       "27"
      ]
     },
     "execution_count": 21,
     "metadata": {},
     "output_type": "execute_result"
    }
   ],
   "source": [
    "def get_powers(in_value):\n",
    "\n",
    "    # Your code goes here\n",
    "    if in_value == 0:\n",
    "        result = 1\n",
    "        print('3 to the power of 0 is', result)\n",
    "        return result\n",
    "        \n",
    "    \n",
    "    else:\n",
    "        result = 3 * get_powers(in_value - 1)\n",
    "        print(f'3 to the power of {in_value} is {result}')\n",
    "        return result\n",
    "\n",
    "in_value = int(input())\n",
    "get_powers(in_value)"
   ]
  },
  {
   "cell_type": "markdown",
   "id": "afeba66f",
   "metadata": {},
   "source": [
    "Write multiply_factors()'s recursive case to:\n",
    "\n",
    "Recursively call multiply_factors() with param - 3.\n",
    "Return param multiplied by the return value of the recursive call."
   ]
  },
  {
   "cell_type": "code",
   "execution_count": 24,
   "id": "a3ea604b",
   "metadata": {},
   "outputs": [
    {
     "name": "stdout",
     "output_type": "stream",
     "text": [
      "11\n",
      "880\n"
     ]
    }
   ],
   "source": [
    "def multiply_factors(param):\n",
    "    if param <= 3:\n",
    "        return param\n",
    "\n",
    "    # Your code goes here\n",
    "    else:\n",
    "        return param*multiply_factors(param -3)\n",
    "\n",
    "param = int(input())\n",
    "print(multiply_factors(param))"
   ]
  },
  {
   "cell_type": "markdown",
   "id": "5d2fe844",
   "metadata": {},
   "source": [
    "Integers total_weeks and inventory are read from input. Complete purchases()'s recursive case:\n",
    "\n",
    "If week is even, call purchases() to compute the next week's inventory as the current week's inventory minus 13.\n",
    "Otherwise, call purchases() to compute the next week's inventory as the current week's inventory minus 9.\n",
    "\n",
    "Note: x % 2 == 0 returns True if x is even."
   ]
  },
  {
   "cell_type": "code",
   "execution_count": 27,
   "id": "97ccf3db",
   "metadata": {},
   "outputs": [
    {
     "name": "stdout",
     "output_type": "stream",
     "text": [
      "Total Weeks: 4\n",
      "Inventory: 250\n",
      "Week: 4, inventory: 219\n"
     ]
    }
   ],
   "source": [
    "def purchases(total_weeks, week, inventory):\n",
    "    if week == total_weeks:\n",
    "        print(f'Week: {total_weeks}, Inventory: {inventory}')\n",
    "    else:\n",
    "    \n",
    "        # Your code goes here\n",
    "        if week % 2 == 0:         #if week is even\n",
    "            inventory -= 13\n",
    "        else:\n",
    "            inventory -= 9\n",
    "        \n",
    "        purchases(total_weeks, week + 1, inventory) #the recursive call to do it again\n",
    "\n",
    "\n",
    "total_weeks = int(input(\"Total Weeks: \"))\n",
    "inventory = int(input(\"Inventory: \"))\n",
    "purchases(total_weeks, 1, inventory)"
   ]
  },
  {
   "cell_type": "markdown",
   "id": "51bd6c94",
   "metadata": {},
   "source": [
    "# 14.5 Recursive math functions\n",
    "Recursive functions can be used to solve certain math problems, such as computing the Fibonacci sequence. The Fibonacci sequence is 0, 1, 1, 2, 3, 5, 8, 13, 21, 34, etc. The pattern is to compute the next number by adding the previous two numbers. The sequence starts with 0 and 1.\n",
    "\n",
    "Below is a program that outputs the Fibonacci sequence step-by-step for a user-entered number of steps. The program starts after the first 0 and 1 of the Fibonacci sequence. The base case is that the program has output the requested number of steps. The recursive case computes the next step."
   ]
  },
  {
   "cell_type": "markdown",
   "id": "d889c1b6",
   "metadata": {},
   "source": [
    "### Figure 14.5.1: Fibonacci sequence step-by-step."
   ]
  },
  {
   "cell_type": "code",
   "execution_count": 28,
   "id": "c23eddcb",
   "metadata": {},
   "outputs": [
    {
     "name": "stdout",
     "output_type": "stream",
     "text": [
      "This program outputs the\n",
      "Fibonacci sequence step-by-step,\n",
      "starting after the first 0 and 1.\n",
      "\n",
      "How many steps would you like?10\n",
      "0 + 1 = 1\n",
      "1 + 1 = 2\n",
      "1 + 2 = 3\n",
      "2 + 3 = 5\n",
      "3 + 5 = 8\n",
      "5 + 8 = 13\n",
      "8 + 13 = 21\n",
      "13 + 21 = 34\n",
      "21 + 34 = 55\n",
      "34 + 55 = 89\n"
     ]
    }
   ],
   "source": [
    "\"\"\"\n",
    "Output the Fibonacci sequence step-by-step.\n",
    "Fibonacci sequence starts as:\n",
    "0 1 1 2 3 5 8 13 21 ... in which the first\n",
    "two numbers are 0 and 1 and each additional\n",
    "number is the sum of the previous two numbers\n",
    "\"\"\"\n",
    "def fibonacci(v1, v2, run_cnt):\n",
    "    print(f'{v1} + {v2} = {v1+v2}')\n",
    "\n",
    "    if run_cnt <= 1:  # Base case:\n",
    "                      # Ran for user's number of steps\n",
    "        pass  # Do nothing\n",
    "    else:             # Recursive case\n",
    "        fibonacci(v2, v1+v2, run_cnt-1)\n",
    "\n",
    "\n",
    "print ('This program outputs the\\n'\n",
    "       'Fibonacci sequence step-by-step,\\n'\n",
    "       'starting after the first 0 and 1.\\n')\n",
    "\n",
    "run_for = int(input('How many steps would you like? '))\n",
    "\n",
    "fibonacci(0, 1, run_for)"
   ]
  },
  {
   "cell_type": "markdown",
   "id": "c78ebfed",
   "metadata": {},
   "source": [
    "### zyDE 14.5.1: Recursive Fibonacci.\n",
    "Write a program that outputs the nth Fibonacci number, where n is a user-entered number. So if the user enters 4, the program should output 3 (without outputting the intermediate steps). Use a recursive function compute_nth_fib that takes n as a parameter and returns the Fibonacci number. The function has two base cases: input 0 returns 0, and input 1 returns 1."
   ]
  },
  {
   "cell_type": "code",
   "execution_count": 30,
   "id": "16ecbafb",
   "metadata": {},
   "outputs": [
    {
     "name": "stdout",
     "output_type": "stream",
     "text": [
      "Enter the value of n: 10\n",
      "55\n"
     ]
    }
   ],
   "source": [
    "def compute_nth_fib(num):\n",
    "    if num == 0:\n",
    "        return 0\n",
    "    elif num == 1:\n",
    "        return 1\n",
    "    else:\n",
    "        return compute_nth_fib(num - 1) + compute_nth_fib(num - 2)\n",
    "\n",
    "# Get user input for the desired Fibonacci number\n",
    "n = int(input(\"Enter the value of n: \"))\n",
    "\n",
    "# Calculate and output the nth Fibonacci number\n",
    "print(compute_nth_fib(n))"
   ]
  },
  {
   "cell_type": "markdown",
   "id": "c764d4af",
   "metadata": {},
   "source": [
    "### Figure 14.5.2: Calculate greatest common divisor of two numbers.\n",
    "Recursion can be used to solve the greatest common divisor (GCD) problem. The GCD is the largest number that divides evenly into two numbers, e.g. GCD(12, 8) = 4. A simple algorithm to compute the GCD subtracts the smaller number from the larger number until both numbers are equal. For example, GCD(12, 8) = GCD(12-8=4, 8) = GCD(4, 8-4=4). The equal numbers are the GCD. Euclid described this algorithm around 300 BC.\n",
    "\n",
    "The below program recursively computes the GCD of two numbers. The base case is that the two numbers are equal, so that number is returned. The recursive case subtracts the smaller number from the larger number and then calls GCD with the new pair of numbers."
   ]
  },
  {
   "cell_type": "code",
   "execution_count": 38,
   "id": "5237367b",
   "metadata": {},
   "outputs": [
    {
     "name": "stdout",
     "output_type": "stream",
     "text": [
      "This program outputs the greatest common divisor of two positive numbers.\n",
      "\n",
      "Enter the first number: 5\n",
      "Enter the second number: 3\n",
      "Greatest common divisor = 1\n",
      "Calls:  4\n"
     ]
    }
   ],
   "source": [
    "\"\"\"\n",
    "Determine the greatest common divisor\n",
    "of two numbers, e.g., GCD(8, 12) = 4\n",
    "\"\"\"\n",
    "\n",
    "\n",
    "def gcd(n1, n2, calls):\n",
    "    calls += 1\n",
    "    if n1 == 0:   # Base case when n1 is 0\n",
    "        return n2, calls\n",
    "    elif n2 == 0: # Base case when n2 is 0\n",
    "        return n1, calls\n",
    "    elif n1 == n2:   # Base case when both numbers are equal\n",
    "        return n1, calls\n",
    "    elif n1 < n2:  # Recursive case when n1 is less than n2\n",
    "        return gcd(n1, n2 - n1, calls)\n",
    "    else:         # Recursive case when n2 is less than n1\n",
    "        return gcd(n1 - n2, n2, calls)\n",
    "\n",
    "print('This program outputs the greatest common divisor '\n",
    "      'of two positive numbers.\\n')\n",
    "\n",
    "num1 = int(input('Enter the first number: '))\n",
    "num2 = int(input('Enter the second number: '))\n",
    "calls = 0\n",
    "\n",
    "if num1 < 1 or num2 < 1:\n",
    "    print('Note: Neither value can be below 1.')\n",
    "else:\n",
    "    my_gcd, calls = gcd(num1, num2, calls)\n",
    "    print(f'Greatest common divisor = {my_gcd}')\n",
    "    print(\"Calls: \", calls)\n"
   ]
  },
  {
   "cell_type": "markdown",
   "id": "b21eb59a",
   "metadata": {},
   "source": [
    "The depth of recursion is a measure of how many recursive calls of a function have been made, but have not yet returned. Each recursive call requires the Python interpreter to allocate more memory, and eventually all of the system memory could be used. Thus, a recursion depth limit exists, accessible using the function sys.getrecursionlimit(). The default recursion depth limit is typically 1000. The limit can be changed using sys.setrecursionlimit(). Exceeding the depth limit causes a RuntimeError to occur. Ex: The following program causes 1000 recursive calls."
   ]
  },
  {
   "cell_type": "code",
   "execution_count": 34,
   "id": "83d592c7",
   "metadata": {},
   "outputs": [
    {
     "data": {
      "text/plain": [
       "3000"
      ]
     },
     "execution_count": 34,
     "metadata": {},
     "output_type": "execute_result"
    }
   ],
   "source": [
    "import sys\n",
    "sys.getrecursionlimit()"
   ]
  },
  {
   "cell_type": "markdown",
   "id": "2489569e",
   "metadata": {},
   "source": [
    "### CHALLENGE ACTIVITY 14.5.1: Writing a recursive math function.\n",
    "Write code to complete raise_to_power(). Note: This example is for practicing recursion; a non-recursive function, or using the built-in function math.pow(), would be more common.\n",
    "\n",
    "Sample output with inputs: 4 2\n",
    "4^2 = 16\n"
   ]
  },
  {
   "cell_type": "code",
   "execution_count": 40,
   "id": "a1b67858",
   "metadata": {},
   "outputs": [
    {
     "name": "stdout",
     "output_type": "stream",
     "text": [
      "4\n",
      "2\n",
      "4^2 = 16\n"
     ]
    }
   ],
   "source": [
    "def raise_to_power(base_val, exponent_val):\n",
    "   if exponent_val == 0:\n",
    "      result_val = 1\n",
    "   else:\n",
    "      return base_val * raise_to_power(base_val, exponent_val - 1)\n",
    "\n",
    "   return result_val\n",
    "\n",
    "user_base = int(input())\n",
    "user_exponent = int(input())\n",
    "\n",
    "\n",
    "print(f'{user_base}^{user_exponent} = {raise_to_power(user_base, user_exponent)}')"
   ]
  },
  {
   "cell_type": "markdown",
   "id": "22085cdd",
   "metadata": {},
   "source": [
    "# 14.6 Recursive exploration of all possibilities\n",
    "Recursion is a powerful tool for exploring all possibilities, such as all possible reorderings of a word's letters, all possible subsets of items, all possible paths between cities, etc. This section provides several examples of using recursion for such exploration.\n",
    "\n",
    "Consider the problem of printing all possible combinations (or \"scramblings\") of a word's letters. For example, the letters of \"abc\" can be scrambled in 6 ways: abc, acb, bac, bca, cab, cba. Those possibilities can be obtained by thinking of three choices: Choosing the first letter (\"a\", \"b\", or \"c\"), then choosing the second letter (if \"a\" was the first choice, then second possible choices are \"b\" or \"c\"; if \"b\" was the first choice, then second possible choices are \"a\" and \"c\"; etc.), then choosing the third letter. The choices can be depicted using a tree. Each level represents a choice. Each node in the tree shows the unchosen letters on the left, and the chosen letters on the right."
   ]
  },
  {
   "cell_type": "markdown",
   "id": "a28f29d4",
   "metadata": {},
   "source": [
    "The program below receives a word from the user then jumbles all of its letters in to every possible ordering. The base case is that all letters have been used. In the recursive case, a remaining letter is moved to the scrambled letters, recursively explored, then put back. This is done for each remaining letter."
   ]
  },
  {
   "cell_type": "markdown",
   "id": "34d4205a",
   "metadata": {},
   "source": [
    "### Figure 14.6.1: Scramble a word's letters in every possible way.\n",
    "The program below receives a word from the user then jumbles all of its letters in to every possible ordering. The base case is that all letters have been used. In the recursive case, a remaining letter is moved to the scrambled letters, recursively explored, then put back. This is done for each remaining letter."
   ]
  },
  {
   "cell_type": "code",
   "execution_count": 42,
   "id": "0927a575",
   "metadata": {},
   "outputs": [
    {
     "name": "stdout",
     "output_type": "stream",
     "text": [
      "Enter a word to be scrambled: cat\n",
      "cat\n",
      "cta\n",
      "act\n",
      "atc\n",
      "tca\n",
      "tac\n"
     ]
    }
   ],
   "source": [
    "def scramble(r_letters, s_letters):\n",
    "    \"\"\"\n",
    "    Output every possible combination of a word.\n",
    "    Each recursive call moves a letter from\n",
    "    r_letters (remaining letters) to\n",
    "    s_letters (scrambled letters)\n",
    "    \"\"\"\n",
    "    if len(r_letters) == 0:\n",
    "        # Base case: All letters used\n",
    "        print(s_letters)\n",
    "    else:\n",
    "        # Recursive case: For each call to scramble()\n",
    "        # move a letter from remaining to scrambled\n",
    "        for i in range(len(r_letters)):\n",
    "            # The letter at index i will be scrambled\n",
    "            scramble_letter = r_letters[i]\n",
    "            \n",
    "            # Remove letter to scramble from remaining letters list\n",
    "            remaining_letters = r_letters[:i] + r_letters[i+1:]\n",
    "            \n",
    "            # Scramble letter\n",
    "            scramble(remaining_letters, s_letters + scramble_letter)\n",
    "\n",
    "word = input('Enter a word to be scrambled: ')\n",
    "scramble(word, '')"
   ]
  },
  {
   "cell_type": "markdown",
   "id": "ba2cb283",
   "metadata": {},
   "source": [
    "### Figure 14.6.2: Shopping spree in which you can fit 3 items in your shopping bag.\n",
    "Recursion is useful for finding all possible subsets of a set of items. The following example is a shopping spree in which you may select a 3-item subset from a larger set of items. The program should print all possible 3-item subsets given the larger set. The program also happens to print the total price value of those items.\n",
    "\n",
    "The shopping_bag_combinations() function has a parameter for the current bag contents, and a parameter for the remaining items from which to choose. The base case is that the current bag already has 3 items. The recursive case is to move one of the remaining items to the bag, recursively call the function, then move the item back from the bag to the remaining items."
   ]
  },
  {
   "cell_type": "code",
   "execution_count": 43,
   "id": "64dc8502",
   "metadata": {},
   "outputs": [
    {
     "name": "stdout",
     "output_type": "stream",
     "text": [
      "Milk   Belt   Toys   = 43.85\n",
      "Milk   Belt   Cups   = 36.65\n",
      "Milk   Toys   Belt   = 43.85\n",
      "Milk   Toys   Cups   = 32.15\n",
      "Milk   Cups   Belt   = 36.65\n",
      "Milk   Cups   Toys   = 32.15\n",
      "Belt   Milk   Toys   = 43.85\n",
      "Belt   Milk   Cups   = 36.65\n",
      "Belt   Toys   Milk   = 43.85\n",
      "Belt   Toys   Cups   = 54.45\n",
      "Belt   Cups   Milk   = 36.65\n",
      "Belt   Cups   Toys   = 54.45\n",
      "Toys   Milk   Belt   = 43.85\n",
      "Toys   Milk   Cups   = 32.15\n",
      "Toys   Belt   Milk   = 43.85\n",
      "Toys   Belt   Cups   = 54.45\n",
      "Toys   Cups   Milk   = 32.15\n",
      "Toys   Cups   Belt   = 54.45\n",
      "Cups   Milk   Belt   = 36.65\n",
      "Cups   Milk   Toys   = 32.15\n",
      "Cups   Belt   Milk   = 36.65\n",
      "Cups   Belt   Toys   = 54.45\n",
      "Cups   Toys   Milk   = 32.15\n",
      "Cups   Toys   Belt   = 54.45\n"
     ]
    }
   ],
   "source": [
    "max_items_in_bag = 3\n",
    "\n",
    "def shopping_bag_combinations(curr_bag, remaining_items):\n",
    "    \"\"\"\n",
    "    Output every combination of items that fit\n",
    "    in a shopping bag. Each recursive call moves\n",
    "    one item into the shopping bag.\n",
    "    \"\"\"\n",
    "    if len(curr_bag) == max_items_in_bag:\n",
    "        # Base case: Shopping bag full\n",
    "        bag_value = 0\n",
    "        for item in curr_bag:\n",
    "            bag_value += item['price']\n",
    "            print(f'{item[\"name\"]}  ', end=' ')\n",
    "        print(f'= {bag_value}')\n",
    "    else:\n",
    "        # Recursive case: Move one of the remaining items\n",
    "        # to the shopping bag.\n",
    "        for index, item in enumerate(remaining_items):\n",
    "            # Move item into bag\n",
    "            curr_bag.append(item)\n",
    "            remaining_items.pop(index)\n",
    "\n",
    "            shopping_bag_combinations(curr_bag, remaining_items)\n",
    "\n",
    "            # Take item out of bag\n",
    "            remaining_items.insert(index, item)\n",
    "            curr_bag.pop()\n",
    "\n",
    "items = [\n",
    "    {\n",
    "        'name': 'Milk',\n",
    "        'price': 1.25\n",
    "    },\n",
    "    {\n",
    "        'name': 'Belt',\n",
    "        'price': 23.55\n",
    "    },\n",
    "    {\n",
    "        'name': 'Toys',\n",
    "        'price': 19.05\n",
    "    },\n",
    "    {\n",
    "        'name': 'Cups',\n",
    "        'price': 11.85\n",
    "    }\n",
    "]\n",
    "\n",
    "bag = []\n",
    "shopping_bag_combinations(bag, items)"
   ]
  },
  {
   "cell_type": "markdown",
   "id": "c9e6b355",
   "metadata": {},
   "source": [
    "### Figure 14.6.3: Find distance of traveling to 3 cities\n",
    "Recursion is useful for finding all possible paths. In the following example, a salesman must travel to 3 cities: Boston, Chicago, and Los Angeles. The salesman wants to know all possible paths among those three cities, starting from any city. A recursive exploration of all travel paths can be used. The base case is that the salesman has traveled to all cities. The recursive case is to travel to a new city, explore possibilities, then return to the previous city..\n"
   ]
  },
  {
   "cell_type": "code",
   "execution_count": 44,
   "id": "989f00ee",
   "metadata": {},
   "outputs": [
    {
     "name": "stdout",
     "output_type": "stream",
     "text": [
      "Boston    Chicago    Los Angeles    = 2971\n",
      "Boston    Los Angeles    Chicago    = 4971\n",
      "Chicago    Boston    Los Angeles    = 3920\n",
      "Chicago    Los Angeles    Boston    = 4971\n",
      "Los Angeles    Boston    Chicago    = 3920\n",
      "Los Angeles    Chicago    Boston    = 2971\n"
     ]
    }
   ],
   "source": [
    "num_cities = 3\n",
    "city_names = []\n",
    "distances = []\n",
    "\n",
    "def travel_paths(curr_path, need_to_visit):\n",
    "    if len(curr_path) == num_cities:  # Base case: Visited all cities\n",
    "        total_distance = 0\n",
    "        for i in range(len(curr_path)):\n",
    "            print(f'{city_names[curr_path[i]]}   ', end=' ')\n",
    "\n",
    "            if i > 0:\n",
    "                total_distance += distances[curr_path[i-1]][curr_path[i]]\n",
    "\n",
    "        print(f'= {total_distance}')\n",
    "    else:  # Recursive case: Travel to each city\n",
    "        for i in range(len(need_to_visit)):\n",
    "            # Visit city\n",
    "            city = need_to_visit[i]\n",
    "            need_to_visit.pop(i)\n",
    "            curr_path.append(city)\n",
    "\n",
    "            travel_paths(curr_path, need_to_visit)\n",
    "\n",
    "            need_to_visit.insert(i, city)\n",
    "            curr_path.pop()\n",
    "\n",
    "distances.append([0])\n",
    "distances[0].append(960)  # Boston-Chicago\n",
    "distances[0].append(2960) # Boston-Los Angeles\n",
    "distances.append([960])   # Chicago-Boston\n",
    "distances[1].append(0)\n",
    "distances[1].append(2011) # Chicago-Los Angeles\n",
    "distances.append([2960])  # Los Angeles-Boston\n",
    "distances[2].append(2011) # Los Angeles-Chicago\n",
    "distances[2].append(0)\n",
    "\n",
    "city_names = [\"Boston\", \"Chicago\", \"Los Angeles\"]\n",
    "\n",
    "path = []\n",
    "need_to_visit = [0, 1, 2] # (Need to visit all 3 cities)\n",
    "travel_paths(path, need_to_visit)"
   ]
  },
  {
   "cell_type": "code",
   "execution_count": 45,
   "id": "ade756a6",
   "metadata": {},
   "outputs": [
    {
     "name": "stdout",
     "output_type": "stream",
     "text": [
      "860\n",
      "806\n",
      "680\n",
      "608\n",
      "086\n",
      "068\n"
     ]
    }
   ],
   "source": [
    "def scramble_nums(remain_nums, scram_nums):\n",
    "    if len(remain_nums) == 0:\n",
    "        print(scram_nums[0], scram_nums[1], scram_nums[2], sep='')\n",
    "    else:\n",
    "        for i in range(len(remain_nums)):\n",
    "            tmp_remain_nums = remain_nums[:] # Make a copy.\n",
    "            tmp_removed_num = tmp_remain_nums[i] \n",
    "            tmp_remain_nums.pop(i) # Remove element at i\n",
    "            scram_nums.append(tmp_removed_num)\n",
    "            scramble_nums(tmp_remain_nums, scram_nums)\n",
    "            scram_nums.pop() # Remove last element\n",
    "\n",
    "nums_to_scramble = []\n",
    "result_nums = []\n",
    "\n",
    "nums_to_scramble.append(8)\n",
    "nums_to_scramble.append(6)\n",
    "nums_to_scramble.append(0)\n",
    "   \n",
    "scramble_nums(nums_to_scramble, result_nums)"
   ]
  },
  {
   "cell_type": "code",
   "execution_count": 47,
   "id": "2fd1b9dc",
   "metadata": {},
   "outputs": [
    {
     "name": "stdout",
     "output_type": "stream",
     "text": [
      "143\n",
      "134\n",
      "413\n",
      "431\n",
      "314\n",
      "341\n"
     ]
    }
   ],
   "source": [
    "# \"New\" means new compared to previous level\n",
    "def scramble_nums(remain_nums, scram_nums):\n",
    "    if len(remain_nums) == 0:\n",
    "        print(scram_nums[0], scram_nums[1], scram_nums[2], sep='')\n",
    "    else:\n",
    "        for i in reversed(range(len(remain_nums))): # New: This line changed\n",
    "            tmp_remain_nums = remain_nums[:] # Make a copy.\n",
    "            tmp_removed_num = tmp_remain_nums[i] \n",
    "            tmp_remain_nums.pop(i) # Remove element at i\n",
    "            scram_nums.append(tmp_removed_num)\n",
    "            scramble_nums(tmp_remain_nums, scram_nums)\n",
    "            scram_nums.pop() # Remove last element\n",
    "\n",
    "nums_to_scramble = []\n",
    "result_nums = []\n",
    "\n",
    "nums_to_scramble.append(3)\n",
    "nums_to_scramble.append(4)\n",
    "nums_to_scramble.append(1)\n",
    "   \n",
    "scramble_nums(nums_to_scramble, result_nums)\n"
   ]
  },
  {
   "cell_type": "markdown",
   "id": "f7a8d7ce",
   "metadata": {},
   "source": [
    "### CHALLENGE ACTIVITY 14.6.2: Recursive exploration of all possibilities.\n",
    "Strings are read from input and stored in list passengers_to_pick. The recursive function arrange_passengers() explores all possible arrangements of two names picked from passengers_to_pick. In arrange_passengers(), write the base case to output the following items in one line if the size of list picked_passengers is 2:\n",
    "\n",
    "'First: '\n",
    "first element in picked_passengers\n",
    "', Second: '\n",
    "second element in picked_passengers"
   ]
  },
  {
   "cell_type": "raw",
   "id": "edc62cfa",
   "metadata": {},
   "source": [
    "Ex: If the input is:\n",
    "Ava Avi Gus\n",
    "then the output is:\n",
    "\n",
    "All possible arrangements:\n",
    "First: Ava, Second: Avi\n",
    "First: Ava, Second: Gus\n",
    "First: Avi, Second: Ava\n",
    "First: Avi, Second: Gus\n",
    "First: Gus, Second: Ava\n",
    "First: Gus, Second: Avi"
   ]
  },
  {
   "cell_type": "code",
   "execution_count": 49,
   "id": "4aba48db",
   "metadata": {},
   "outputs": [
    {
     "name": "stdout",
     "output_type": "stream",
     "text": [
      "Ava Avi Gus\n",
      "All possible arrangements:\n",
      "First: Ava, Second: Avi\n",
      "First: Ava, Second: Gus\n",
      "First: Avi, Second: Ava\n",
      "First: Avi, Second: Gus\n",
      "First: Gus, Second: Ava\n",
      "First: Gus, Second: Avi\n"
     ]
    }
   ],
   "source": [
    "def arrange_passengers(remain_passengers, picked_passengers):\n",
    "\n",
    "    # Your code goes here\n",
    "    if len(picked_passengers) == 2:  # Base case when picked_passengers has 2 elements\n",
    "        print(f'First: {picked_passengers[0]}, Second: {picked_passengers[1]}')\n",
    "\n",
    "    else:\n",
    "        for i, val in enumerate(remain_passengers):\n",
    "            new_remain = remain_passengers[:i] + remain_passengers[i+1:]\n",
    "            new_picked = picked_passengers + [val]\n",
    "            arrange_passengers(new_remain, new_picked)\n",
    "\n",
    "passengers_to_pick = []\n",
    "picks = []\n",
    "for token in input().split():\n",
    "    passengers_to_pick.append(token)\n",
    "print('All possible arrangements:')\n",
    "arrange_passengers(passengers_to_pick, picks)"
   ]
  },
  {
   "cell_type": "markdown",
   "id": "ccd82e2b",
   "metadata": {},
   "source": [
    "Variable input_number contains a string read from input. Recursive function scramble_digits() counts and outputs all possible strings that can be formed using each digit in variable input_number exactly once. Complete the scramble_digits() base case to increment the value of num_choices and output the following in one line:\n",
    "\n",
    "used_digits\n",
    "': Possibility '\n",
    "the value of num_choices\n",
    "Then, return the value of num_choices for the base case."
   ]
  },
  {
   "cell_type": "raw",
   "id": "b1e797fe",
   "metadata": {},
   "source": [
    "Ex: If the input is:\n",
    "169\n",
    "then the output is:\n",
    "\n",
    "All available sequences:\n",
    "169: Possibility 1\n",
    "196: Possibility 2\n",
    "619: Possibility 3\n",
    "691: Possibility 4\n",
    "916: Possibility 5\n",
    "961: Possibility 6"
   ]
  },
  {
   "cell_type": "code",
   "execution_count": 51,
   "id": "129575b1",
   "metadata": {},
   "outputs": [
    {
     "name": "stdout",
     "output_type": "stream",
     "text": [
      "169\n",
      "All available sequences:\n",
      "169: Possibility 1\n",
      "196: Possibility 2\n",
      "619: Possibility 3\n",
      "691: Possibility 4\n",
      "916: Possibility 5\n",
      "961: Possibility 6\n"
     ]
    },
    {
     "data": {
      "text/plain": [
       "6"
      ]
     },
     "execution_count": 51,
     "metadata": {},
     "output_type": "execute_result"
    }
   ],
   "source": [
    "def scramble_digits(remaining_digits, used_digits, num_choices):\n",
    "    if len(remaining_digits) == 0:\n",
    "\n",
    "        # Your code goes here\n",
    "        num_choices += 1\n",
    "        print(f'{used_digits}: Possibility {num_choices}')\n",
    "        return num_choices\n",
    "\n",
    "    else:\n",
    "        for i, val in enumerate(remaining_digits):\n",
    "            new_remain = remaining_digits[:i] + remaining_digits[i+1:]\n",
    "            new_picked = used_digits + val\n",
    "            num_choices = scramble_digits(new_remain, new_picked, num_choices)\n",
    "        return num_choices\n",
    "\n",
    "input_number = input()\n",
    "picks = ''\n",
    "print('All available sequences:')\n",
    "scramble_digits(input_number, picks, 0)"
   ]
  },
  {
   "cell_type": "markdown",
   "id": "3875f00f",
   "metadata": {},
   "source": [
    "String start_word is read from input. In rearrange_word(), complete the recursive case to perform the following tasks for each letter at index i in r_letters:\n",
    "\n",
    "Create a new string that contains all the letters of r_letters except the letter at index i.\n",
    "Create a second new string that contains all the letters in s_letters with the letter at index i added at the end of the string.\n",
    "Recursively call rearrange_word() with the two newly created strings and count as the arguments. Assign count with the value returned by rearrange_word()."
   ]
  },
  {
   "cell_type": "raw",
   "id": "6f7f3f9f",
   "metadata": {},
   "source": [
    "Ex: If the input is:\n",
    "net\n",
    "then the output is:\n",
    "\n",
    "All scrambled words:\n",
    "net\n",
    "nte\n",
    "ent\n",
    "etn\n",
    "tne\n",
    "ten\n",
    "Number of possibilities: 6"
   ]
  },
  {
   "cell_type": "code",
   "execution_count": 53,
   "id": "18c6331a",
   "metadata": {},
   "outputs": [
    {
     "name": "stdout",
     "output_type": "stream",
     "text": [
      "net\n",
      "All scrambled words:\n",
      "net\n",
      "nte\n",
      "ent\n",
      "etn\n",
      "tne\n",
      "ten\n",
      "Number of possibilities: 6\n"
     ]
    }
   ],
   "source": [
    "def rearrange_word(r_letters, s_letters, count):\n",
    "    if len(r_letters) == 0:\n",
    "        count = count + 1\n",
    "        print(s_letters)\n",
    "        return count\n",
    "    else:\n",
    "\n",
    "        # Your code goes here\n",
    "        for i, letter in enumerate(r_letters):\n",
    "            new_r_letters = r_letters[:i] + r_letters[i+1:]  # Create a new string without the letter at index i\n",
    "            new_s_letters = s_letters + letter  # Create a new string with the letter at index i added at the end\n",
    "            count = rearrange_word(new_r_letters, new_s_letters, count)  # Recursively call rearrange_word\n",
    "\n",
    "        return count\n",
    "start_word = input()\n",
    "picks = ''\n",
    "print('All scrambled words:')\n",
    "total_count = rearrange_word(start_word, picks, 0)\n",
    "print(f'Number of possibilities: {total_count}')"
   ]
  },
  {
   "cell_type": "markdown",
   "id": "b19cec96",
   "metadata": {},
   "source": [
    "# 14.7 LAB: All permutations of names\n",
    "Write a program that lists all ways people can line up for a photo (all permutations of a list of strings). The program will read a list of one word names into list nameList, then use a recursive function to create and output all possible orderings of those names separated by a comma, one ordering per line."
   ]
  },
  {
   "cell_type": "raw",
   "id": "4b26fa35",
   "metadata": {},
   "source": [
    "When the input is:\n",
    "\n",
    "Julia Lucas Mia\n",
    "then the output is (must match the below ordering):\n",
    "\n",
    "Julia, Lucas, Mia \n",
    "Julia, Mia, Lucas\n",
    "Lucas, Julia, Mia\n",
    "Lucas, Mia, Julia\n",
    "Mia, Julia, Lucas\n",
    "Mia, Lucas, Julia"
   ]
  },
  {
   "cell_type": "code",
   "execution_count": 55,
   "id": "38eda823",
   "metadata": {},
   "outputs": [
    {
     "name": "stdout",
     "output_type": "stream",
     "text": [
      "Julia Lucas Mia\n",
      "Julia, Lucas, Mia\n",
      "Julia, Mia, Lucas\n",
      "Lucas, Julia, Mia\n",
      "Lucas, Mia, Julia\n",
      "Mia, Julia, Lucas\n",
      "Mia, Lucas, Julia\n"
     ]
    }
   ],
   "source": [
    "## LAB ACTIVITY 14.7.1: LAB: All permutations of names\n",
    "\n",
    "def print_all_permutations(permList, nameList):\n",
    "    # TODO: Implement method to create and output all permutations of the list of names.\n",
    "    if len(nameList) == 0:\n",
    "        print(', '.join(permList))\n",
    "    else:\n",
    "        for i, name in enumerate(nameList):\n",
    "            new_permList = permList + [name]\n",
    "            new_nameList = nameList[:i] + nameList[i+1:]\n",
    "            print_all_permutations(new_permList, new_nameList)\n",
    "\n",
    "if __name__ == \"__main__\": \n",
    "    nameList = input().split(' ')\n",
    "    permList = []\n",
    "    print_all_permutations(permList, nameList)"
   ]
  },
  {
   "cell_type": "code",
   "execution_count": null,
   "id": "8903833c",
   "metadata": {},
   "outputs": [],
   "source": []
  }
 ],
 "metadata": {
  "kernelspec": {
   "display_name": "Python 3",
   "language": "python",
   "name": "python3"
  },
  "language_info": {
   "codemirror_mode": {
    "name": "ipython",
    "version": 3
   },
   "file_extension": ".py",
   "mimetype": "text/x-python",
   "name": "python",
   "nbconvert_exporter": "python",
   "pygments_lexer": "ipython3",
   "version": "3.6.13"
  }
 },
 "nbformat": 4,
 "nbformat_minor": 5
}
