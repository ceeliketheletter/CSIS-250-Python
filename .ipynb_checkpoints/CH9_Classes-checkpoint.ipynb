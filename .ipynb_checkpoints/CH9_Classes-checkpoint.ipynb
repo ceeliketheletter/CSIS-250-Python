{
 "cells": [
  {
   "cell_type": "markdown",
   "id": "07ce1e54",
   "metadata": {},
   "source": [
    "# 9.2 Classes: Grouping data\n",
    "Multiple variables are frequently closely related and should be treated as one variable with multiple parts. For example, two variables called hours and minutes might be grouped together in a single variable called time. The class keyword can be used to create a user-defined type of object containing groups of related variables and functions."
   ]
  },
  {
   "cell_type": "markdown",
   "id": "8a502724",
   "metadata": {},
   "source": [
    "## Defining a new class object with two data attributes."
   ]
  },
  {
   "cell_type": "code",
   "execution_count": 1,
   "id": "39bd3aef",
   "metadata": {},
   "outputs": [],
   "source": [
    "class Time:\n",
    "    \"\"\" A class that represents a time of day \"\"\"\n",
    "    def __init__(self):\n",
    "        self.hours = 0\n",
    "        self.minutes = 0"
   ]
  },
  {
   "cell_type": "markdown",
   "id": "206051cf",
   "metadata": {},
   "source": [
    "The programmer can then use instantiation to define a new Time class variable and access that variable's attributes. An instantiation operation is performed by \"calling\" the class, using parentheses like a function call as in my_time = Time(). An instantiation operation creates an instance, which is an individual object of the given class. An instantiation operation automatically calls the __init__ method defined in the class definition. A method is a function defined within a class. The __init__ method, commonly known as a constructor, is responsible for setting up the initial state of the new instance. In the example above, the __init__ method creates two new attributes, hours and minutes, and assigns default values of 0.\n",
    "\n",
    "The __init__ method has a single parameter, \"self\", that automatically references the instance being created. A programmer writes an expression such as self.hours = 0 within the __init__ method to create a new attribute, hours.\n",
    "\n"
   ]
  },
  {
   "cell_type": "markdown",
   "id": "793fb891",
   "metadata": {},
   "source": [
    "## Using instantiation to create a variable using the Time class."
   ]
  },
  {
   "cell_type": "code",
   "execution_count": 2,
   "id": "0414f5d5",
   "metadata": {},
   "outputs": [
    {
     "name": "stdout",
     "output_type": "stream",
     "text": [
      "7 hours and 15 minutes\n"
     ]
    }
   ],
   "source": [
    "class Time:\n",
    "    \"\"\" A class that represents a time of day \"\"\"\n",
    "    def __init__(self):\n",
    "        self.hours = 0\n",
    "        self.minutes = 0\n",
    "\n",
    "\n",
    "my_time = Time()\n",
    "my_time.hours = 7\n",
    "my_time.minutes = 15\n",
    "\n",
    "print(f'{my_time.hours} hours', end=' ')\n",
    "print(f'and {my_time.minutes} minutes')"
   ]
  },
  {
   "cell_type": "markdown",
   "id": "d3a12eb7",
   "metadata": {},
   "source": [
    "Attributes can be accessed using the attribute reference operator \".\" (sometimes called the member operator or dot notation)."
   ]
  },
  {
   "cell_type": "markdown",
   "id": "38685785",
   "metadata": {},
   "source": [
    "## Multiple instances of a class"
   ]
  },
  {
   "cell_type": "code",
   "execution_count": 3,
   "id": "211f78e6",
   "metadata": {},
   "outputs": [
    {
     "name": "stdout",
     "output_type": "stream",
     "text": [
      "7 hours and 30 minutes\n",
      "12 hours and 45 minutes\n"
     ]
    }
   ],
   "source": [
    "class Time:\n",
    "    \"\"\" A class that represents a time of day \"\"\"\n",
    "    def __init__(self):\n",
    "        self.hours = 0\n",
    "        self.minutes = 0\n",
    "\n",
    "\n",
    "time1 = Time()  # Create an instance of the Time class called time1\n",
    "time1.hours = 7\n",
    "time1.minutes = 30\n",
    "\n",
    "time2 = Time()  # Create a second instance called time2\n",
    "time2.hours = 12\n",
    "time2.minutes = 45\n",
    "\n",
    "print(f'{time1.hours} hours and {time1.minutes} minutes')\n",
    "print(f'{time2.hours} hours and {time2.minutes} minutes')\n"
   ]
  },
  {
   "cell_type": "markdown",
   "id": "f836d850",
   "metadata": {},
   "source": [
    "# 9.3 Instance methods\n",
    "A function defined within a class is known as an instance method. An instance method can be referenced using dot notation. "
   ]
  },
  {
   "cell_type": "markdown",
   "id": "db47bf84",
   "metadata": {},
   "source": [
    "### A class definition may include user-defined functions"
   ]
  },
  {
   "cell_type": "code",
   "execution_count": 5,
   "id": "389bba39",
   "metadata": {},
   "outputs": [
    {
     "name": "stdout",
     "output_type": "stream",
     "text": [
      "Hours: 7 Minutes: 15\n"
     ]
    }
   ],
   "source": [
    "class Time:\n",
    "    def __init__(self):\n",
    "        self.hours = 0\n",
    "        self.minutes = 0\n",
    "\n",
    "    def print_time(self):\n",
    "        print(f'Hours: {self.hours}', end=' ')\n",
    "        print(f'Minutes: {self.minutes}')\n",
    "\n",
    "\n",
    "time1 = Time()\n",
    "time1.hours = 7\n",
    "time1.minutes = 15\n",
    "time1.print_time()"
   ]
  },
  {
   "cell_type": "markdown",
   "id": "f20fd824",
   "metadata": {},
   "source": [
    "The definition of print_time() has a parameter \"self\" that provides a reference to the class instance. In the program above, \"self\" is bound to time1 when time1.print_time() is called. A programmer does not specify an argument for \"self\" when calling the function; (the argument list in time1.print_time() is empty.) The method's code can use \"self\" to access other attributes or methods of the instance. Ex: The print_time method uses \"self.hours\" and \"self.minutes\" to get the value of the time1 instance data attributes."
   ]
  },
  {
   "cell_type": "code",
   "execution_count": null,
   "id": "084f47e9",
   "metadata": {},
   "outputs": [],
   "source": []
  },
  {
   "cell_type": "code",
   "execution_count": null,
   "id": "faf51862",
   "metadata": {},
   "outputs": [],
   "source": []
  }
 ],
 "metadata": {
  "kernelspec": {
   "display_name": "Python 3 (ipykernel)",
   "language": "python",
   "name": "python3"
  },
  "language_info": {
   "codemirror_mode": {
    "name": "ipython",
    "version": 3
   },
   "file_extension": ".py",
   "mimetype": "text/x-python",
   "name": "python",
   "nbconvert_exporter": "python",
   "pygments_lexer": "ipython3",
   "version": "3.9.7"
  }
 },
 "nbformat": 4,
 "nbformat_minor": 5
}
