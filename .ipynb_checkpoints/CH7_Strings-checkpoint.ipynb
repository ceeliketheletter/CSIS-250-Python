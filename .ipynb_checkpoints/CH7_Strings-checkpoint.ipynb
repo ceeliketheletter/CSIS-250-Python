{
 "cells": [
  {
   "cell_type": "markdown",
   "id": "dc53eacf",
   "metadata": {},
   "source": [
    "# 7.2 Advanced string formatting"
   ]
  },
  {
   "cell_type": "markdown",
   "id": "29102fa9",
   "metadata": {},
   "source": [
    "#### Field width"
   ]
  },
  {
   "cell_type": "code",
   "execution_count": 58,
   "id": "8237b046",
   "metadata": {},
   "outputs": [],
   "source": [
    "names = ['Sadio Mane', 'Gabriel Jesus']\n",
    "goals = [22, 7]\n",
    "\n",
    "\n",
    "\n",
    "def maketable(fstring1, fstring2):\n",
    "   print(fstring1)        \n",
    "   print('-' * 24)\n",
    "   for i in range(2):\n",
    "       print(fstring2)    \n",
    "    "
   ]
  },
  {
   "cell_type": "markdown",
   "id": "81ceaead",
   "metadata": {},
   "source": [
    "Left-aligned"
   ]
  },
  {
   "cell_type": "code",
   "execution_count": 62,
   "id": "6ec927cf",
   "metadata": {},
   "outputs": [
    {
     "name": "stdout",
     "output_type": "stream",
     "text": [
      "Player Name     Goals   \n",
      "------------------------\n",
      "Gabriel Jesus   7       \n",
      "Gabriel Jesus   7       \n"
     ]
    }
   ],
   "source": [
    "fstring1 = f'{\"Player Name\":<16}{\"Goals\":<8}'\n",
    "fstring2= f'{names[i]:<16}{goals[i]:<8}'\n",
    "\n",
    "maketable(fstring1, fstring2)"
   ]
  },
  {
   "cell_type": "markdown",
   "id": "a93c9915",
   "metadata": {},
   "source": [
    "Right-aligned"
   ]
  },
  {
   "cell_type": "code",
   "execution_count": 63,
   "id": "411315e6",
   "metadata": {},
   "outputs": [
    {
     "name": "stdout",
     "output_type": "stream",
     "text": [
      "     Player Name   Goals\n",
      "------------------------\n",
      "   Gabriel Jesus       7\n",
      "   Gabriel Jesus       7\n"
     ]
    }
   ],
   "source": [
    "fstring1 = f'{\"Player Name\":>16}{\"Goals\":>8}'\n",
    "fstring2 = f'{names[i]:>16}{goals[i]:>8}'\n",
    "\n",
    "maketable(fstring1, fstring2)"
   ]
  },
  {
   "cell_type": "markdown",
   "id": "7aa69bff",
   "metadata": {},
   "source": [
    "Centered"
   ]
  },
  {
   "cell_type": "code",
   "execution_count": 66,
   "id": "42b48df0",
   "metadata": {},
   "outputs": [
    {
     "name": "stdout",
     "output_type": "stream",
     "text": [
      "  Player Name    Goals  \n",
      "------------------------\n",
      " Gabriel Jesus     7    \n",
      " Gabriel Jesus     7    \n"
     ]
    }
   ],
   "source": [
    "fstring1 =f'{\"Player Name\":^16}{\"Goals\":^8}'\n",
    "fstring2 = f'{names[i]:^16}{goals[i]:^8}'\n",
    "\n",
    "maketable(fstring1, fstring2)"
   ]
  },
  {
   "cell_type": "markdown",
   "id": "249dbe90",
   "metadata": {},
   "source": [
    "#### Using fill characters to pad tables."
   ]
  },
  {
   "cell_type": "code",
   "execution_count": 71,
   "id": "1291645f",
   "metadata": {},
   "outputs": [
    {
     "name": "stdout",
     "output_type": "stream",
     "text": [
      "Wayne Rooney        36\n",
      "Wayne Rooney    000036\n",
      "Wayne Rooney____000036\n"
     ]
    }
   ],
   "source": [
    "name = 'Wayne Rooney'\n",
    "goals = 36\n",
    "# Use default empty space fill character\n",
    "print(f'{name:<16}{goals:>6}')\n",
    "\n",
    "# Use '0' as a fill character for score\n",
    "print(f'{name:<16}{goals:0>6}')\n",
    "\n",
    "# Use '_' as fill character for name\n",
    "print(f'{name:_<16}{goals:0>6}')"
   ]
  },
  {
   "cell_type": "raw",
   "id": "7c0d01e1",
   "metadata": {},
   "source": [
    "String food_name is read from input. Output the following:\n",
    "food_name with a width of 10 characters, left-aligned, and with the fill character '-'.\n",
    "food_name with a width of 10 characters, centered, and with the fill character '-'.\n"
   ]
  },
  {
   "cell_type": "code",
   "execution_count": 72,
   "id": "0d8336da",
   "metadata": {},
   "outputs": [
    {
     "name": "stdout",
     "output_type": "stream",
     "text": [
      "Carrot\n",
      "Carrot----\n",
      "--Carrot--\n"
     ]
    }
   ],
   "source": [
    "food_name = input()\n",
    "print(f'{food_name:-<10}')\n",
    "print(f'{food_name:-^10}')"
   ]
  },
  {
   "cell_type": "raw",
   "id": "e9179d5f",
   "metadata": {},
   "source": [
    "Floating-point number lap_length is read from input. Output 'Miles: ', followed by lap_length to 2 decimal places.\n"
   ]
  },
  {
   "cell_type": "code",
   "execution_count": 79,
   "id": "f68c2b6b",
   "metadata": {},
   "outputs": [
    {
     "name": "stdout",
     "output_type": "stream",
     "text": [
      "25\n",
      "Miles: 25.00\n"
     ]
    }
   ],
   "source": [
    "lap_length = float(input())\n",
    "print(f'Miles: {lap_length:.2f}')"
   ]
  },
  {
   "cell_type": "raw",
   "id": "5958b7f6",
   "metadata": {},
   "source": [
    "Three strings are read from input and stored into list plants. Then, three more strings are read from input and stored into list planted. Lastly, string separator_char is read from input. Output the following lines:\n",
    "\n",
    "\"Plants\", with a field width of 21, centered, and followed by '|'. Then \"Planted\", with a field width of 21, centered.\n",
    "42 instances of separator_char.\n",
    "plants[0], with a field width of 21, left-aligned, and followed by '|'. Then, planted[0] with a field width of 21, left-aligned.\n",
    "plants[1], with a field width of 21, left-aligned, and followed by '|'. Then, planted[1] with a field width of 21, left-aligned.\n",
    "plants[2], with a field width of 21, left-aligned, and followed by '|'. Then, planted[2] with a field width of 21, left-aligned.\n"
   ]
  },
  {
   "cell_type": "code",
   "execution_count": 87,
   "id": "58063700",
   "metadata": {},
   "outputs": [
    {
     "name": "stdout",
     "output_type": "stream",
     "text": [
      "Plants: Beans Corn Squash\n",
      "Planted: Tomatoes Carrots Beans\n",
      "Seperator: -\n",
      "       Plants        |       Planted       \n",
      "------------------------------------------\n",
      "Beans                |Tomatoes             \n",
      "Corn                 |Carrots              \n",
      "Squash               |Beans                \n"
     ]
    }
   ],
   "source": [
    "plants = input(\"Plants: \").split()\n",
    "planted = input(\"Planted: \").split()\n",
    "separator_char = input(\"Seperator: \")\n",
    "\n",
    "def maketable():\n",
    "   print(f'{\"Plants\":^21}|{\"Planted\":^21}')        \n",
    "   print(separator_char * 42)\n",
    "   for i in range(len(plants)):\n",
    "       print(f'{plants[i]:<21}|{planted[i]:<21}') \n",
    "\n",
    "maketable()\n"
   ]
  },
  {
   "cell_type": "markdown",
   "id": "476dcb68",
   "metadata": {},
   "source": [
    "# 7.3 String methods"
   ]
  },
  {
   "cell_type": "markdown",
   "id": "6dc1cc79",
   "metadata": {},
   "source": [
    "replace(old, new) —Returns a copy of the string with all occurrences of the substring old replaced by the string new. The old and new arguments may be string variables or string literals.\n",
    "\n",
    "replace(old, new, count) —Same as above, except replace(old, new, count) only replaces the first count occurrences of old."
   ]
  },
  {
   "cell_type": "code",
   "execution_count": 4,
   "id": "aaf4e7a2",
   "metadata": {},
   "outputs": [
    {
     "name": "stdout",
     "output_type": "stream",
     "text": [
      "Translation: Someday I will have tres goats, six horses, and nine llamas.\n"
     ]
    }
   ],
   "source": [
    "phrase = 'Someday I will have three goats, six horses, and nine llamas.'\n",
    "\n",
    "phrase = phrase.replace('three', 'tres')\n",
    "\n",
    "print('Translation:', phrase)"
   ]
  },
  {
   "cell_type": "markdown",
   "id": "5f05aa96",
   "metadata": {},
   "source": [
    "find(x) -- Returns the index of the first occurrence of item x in the string, otherwise, find(x) returns -1. x may be a string variable or string literal. Recall that in a string, the index of the first character is 0, not 1. If "
   ]
  },
  {
   "cell_type": "code",
   "execution_count": 14,
   "id": "44b468e4",
   "metadata": {},
   "outputs": [],
   "source": [
    "my_str = 'Boo Hoo!'"
   ]
  },
  {
   "cell_type": "code",
   "execution_count": 15,
   "id": "22be0f8f",
   "metadata": {},
   "outputs": [
    {
     "data": {
      "text/plain": [
       "7"
      ]
     },
     "execution_count": 15,
     "metadata": {},
     "output_type": "execute_result"
    }
   ],
   "source": [
    "my_str.find('!')  # Returns 7"
   ]
  },
  {
   "cell_type": "code",
   "execution_count": 16,
   "id": "f780025c",
   "metadata": {},
   "outputs": [
    {
     "data": {
      "text/plain": [
       "0"
      ]
     },
     "execution_count": 16,
     "metadata": {},
     "output_type": "execute_result"
    }
   ],
   "source": [
    "my_str.find('Boo')  # Returns 0"
   ]
  },
  {
   "cell_type": "code",
   "execution_count": 17,
   "id": "a3572aff",
   "metadata": {},
   "outputs": [
    {
     "data": {
      "text/plain": [
       "1"
      ]
     },
     "execution_count": 17,
     "metadata": {},
     "output_type": "execute_result"
    }
   ],
   "source": [
    "my_str.find('oo')  # Returns 1 (first occurrence only)"
   ]
  },
  {
   "cell_type": "markdown",
   "id": "a4001e98",
   "metadata": {},
   "source": [
    "find(x, start) —Same as find(x), but begins the search at index start:"
   ]
  },
  {
   "cell_type": "code",
   "execution_count": 18,
   "id": "7e50b0d7",
   "metadata": {},
   "outputs": [
    {
     "data": {
      "text/plain": [
       "5"
      ]
     },
     "execution_count": 18,
     "metadata": {},
     "output_type": "execute_result"
    }
   ],
   "source": [
    "my_str.find('oo', 2)  # Returns 5"
   ]
  },
  {
   "cell_type": "markdown",
   "id": "9e48b030",
   "metadata": {},
   "source": [
    "find(x, start, end) -- Same as find(x, start), but stops the search at index end - 1:"
   ]
  },
  {
   "cell_type": "code",
   "execution_count": 19,
   "id": "7599fa41",
   "metadata": {},
   "outputs": [
    {
     "data": {
      "text/plain": [
       "-1"
      ]
     },
     "execution_count": 19,
     "metadata": {},
     "output_type": "execute_result"
    }
   ],
   "source": [
    "my_str.find('oo', 2, 4)  # Returns -1 (not found)"
   ]
  },
  {
   "cell_type": "markdown",
   "id": "0f23015c",
   "metadata": {},
   "source": [
    "rfind(x) -- Same as find(x) but searches the string in reverse, returning the last occurrence in the string."
   ]
  },
  {
   "cell_type": "markdown",
   "id": "0741e45c",
   "metadata": {},
   "source": [
    "Another useful function is count, which counts the number of times a substring occurs in the string:\n",
    "\n",
    "count(x) -- Returns the number of times x occurs in the string."
   ]
  },
  {
   "cell_type": "code",
   "execution_count": 20,
   "id": "4461fc67",
   "metadata": {},
   "outputs": [
    {
     "data": {
      "text/plain": [
       "2"
      ]
     },
     "execution_count": 20,
     "metadata": {},
     "output_type": "execute_result"
    }
   ],
   "source": [
    "my_str.count('oo')  # Returns 2"
   ]
  },
  {
   "cell_type": "code",
   "execution_count": 23,
   "id": "b5a2ad39",
   "metadata": {},
   "outputs": [
    {
     "data": {
      "text/plain": [
       "True"
      ]
     },
     "execution_count": 23,
     "metadata": {},
     "output_type": "execute_result"
    }
   ],
   "source": [
    "'Hello' == 'Hello' #The strings are exactly identical values"
   ]
  },
  {
   "cell_type": "code",
   "execution_count": 25,
   "id": "4be7492b",
   "metadata": {},
   "outputs": [
    {
     "data": {
      "text/plain": [
       "False"
      ]
     },
     "execution_count": 25,
     "metadata": {},
     "output_type": "execute_result"
    }
   ],
   "source": [
    "'Hello' == 'Hello!' #The left hand string does not end with '!'."
   ]
  },
  {
   "cell_type": "code",
   "execution_count": 26,
   "id": "7512fe86",
   "metadata": {},
   "outputs": [
    {
     "data": {
      "text/plain": [
       "True"
      ]
     },
     "execution_count": 26,
     "metadata": {},
     "output_type": "execute_result"
    }
   ],
   "source": [
    "'Yankee Sierra' > 'Amy Wise' #The first character of the left side 'Y' is \"greater than\" (in ASCII value) the first character of the right side 'A'."
   ]
  },
  {
   "cell_type": "code",
   "execution_count": 27,
   "id": "8162bbf5",
   "metadata": {},
   "outputs": [
    {
     "data": {
      "text/plain": [
       "False"
      ]
     },
     "execution_count": 27,
     "metadata": {},
     "output_type": "execute_result"
    }
   ],
   "source": [
    "'Yankee Sierra' > 'Yankee Zulu' #The characters of both sides match until the second word. The first character of the second word on the left 'S' is not \"greater than\" (in ASCII value) the first character on the right side 'Z'."
   ]
  },
  {
   "cell_type": "code",
   "execution_count": 28,
   "id": "26666c1b",
   "metadata": {},
   "outputs": [
    {
     "data": {
      "text/plain": [
       "True"
      ]
     },
     "execution_count": 28,
     "metadata": {},
     "output_type": "execute_result"
    }
   ],
   "source": [
    "'seph' in 'Joseph' #The substring 'seph' can be found starting at the 3rd position of 'Joseph'."
   ]
  },
  {
   "cell_type": "code",
   "execution_count": 29,
   "id": "95c810fa",
   "metadata": {},
   "outputs": [
    {
     "data": {
      "text/plain": [
       "False"
      ]
     },
     "execution_count": 29,
     "metadata": {},
     "output_type": "execute_result"
    }
   ],
   "source": [
    "'jo' in 'Joseph' #'jo' (with a lowercase 'j') is not in 'Joseph' (with an uppercase 'J')."
   ]
  },
  {
   "cell_type": "raw",
   "id": "f6d5f352",
   "metadata": {},
   "source": [
    "Methods to check a string value that returns a True or False Boolean value:\n",
    "isalnum() -- Returns True if all characters in the string are lowercase or uppercase letters, or the numbers 0-9.\n",
    "isdigit() -- Returns True if all characters are the numbers 0-9.\n",
    "islower() -- Returns True if all cased characters are lowercase letters.\n",
    "isupper() -- Returns True if all cased characters are uppercase letters.\n",
    "isspace() -- Returns True if all characters are whitespace.\n",
    "startswith(x) -- Returns True if the string starts with x.\n",
    "endswith(x) -- Returns True if the string ends with x."
   ]
  },
  {
   "cell_type": "raw",
   "id": "a73f702e",
   "metadata": {},
   "source": [
    "Methods to create new strings:\n",
    "capitalize() -- Returns a copy of the string with the first character capitalized and the rest lowercased.\n",
    "lower() -- Returns a copy of the string with all characters lowercased.\n",
    "upper() -- Returns a copy of the string with all characters uppercased.\n",
    "strip() -- Returns a copy of the string with leading and trailing whitespace removed.\n",
    "title() -- Returns a copy of the string as a title, with first letters of words capitalized."
   ]
  },
  {
   "cell_type": "code",
   "execution_count": 32,
   "id": "7df1c45d",
   "metadata": {},
   "outputs": [
    {
     "name": "stdout",
     "output_type": "stream",
     "text": [
      "Enter passenger name:\n",
      "sfgdsdfgbsd\n",
      "SFGDSDFGBSD\n"
     ]
    }
   ],
   "source": [
    "name = input('Enter passenger name:\\n').strip().upper()\n",
    "print(name)"
   ]
  },
  {
   "cell_type": "markdown",
   "id": "abb437b9",
   "metadata": {},
   "source": [
    "# 7.4 Splitting and joining strings"
   ]
  },
  {
   "cell_type": "markdown",
   "id": "caaa341f",
   "metadata": {},
   "source": [
    "### The split() method"
   ]
  },
  {
   "cell_type": "code",
   "execution_count": 88,
   "id": "106c558f",
   "metadata": {},
   "outputs": [
    {
     "data": {
      "text/plain": [
       "['a', 'b', 'c']"
      ]
     },
     "execution_count": 88,
     "metadata": {},
     "output_type": "execute_result"
    }
   ],
   "source": [
    "'a#b#c'.split('#') #uses the \"#\" separator to split the string \"a#b#c\" into the three tokens ['a', 'b', 'c']."
   ]
  },
  {
   "cell_type": "code",
   "execution_count": 89,
   "id": "46962893",
   "metadata": {},
   "outputs": [
    {
     "data": {
      "text/plain": [
       "['Martin', 'Luther', 'King', 'Jr.']"
      ]
     },
     "execution_count": 89,
     "metadata": {},
     "output_type": "execute_result"
    }
   ],
   "source": [
    "'Martin Luther King Jr.'.split() #splits the string literal \"Martin Luther King Jr.\" using any whitespace character as the default separator and returns the list of tokens ['Martin', 'Luther', 'King', 'Jr.']."
   ]
  },
  {
   "cell_type": "markdown",
   "id": "f6e6c25b",
   "metadata": {},
   "source": [
    "### The join() method"
   ]
  },
  {
   "cell_type": "markdown",
   "id": "19836b92",
   "metadata": {},
   "source": [
    "The join() string method performs the inverse operation of split() by joining a list of strings together to create a single string."
   ]
  },
  {
   "cell_type": "code",
   "execution_count": 92,
   "id": "5dc70912",
   "metadata": {},
   "outputs": [
    {
     "name": "stdout",
     "output_type": "stream",
     "text": [
      "billgates@microsoft\n"
     ]
    }
   ],
   "source": [
    "my_str = '@'.join(['billgates', 'microsoft'])\n",
    "print(my_str)"
   ]
  },
  {
   "cell_type": "code",
   "execution_count": 93,
   "id": "787c5e99",
   "metadata": {},
   "outputs": [
    {
     "name": "stdout",
     "output_type": "stream",
     "text": [
      "To be, or not to be.\n",
      "That is the question.\n"
     ]
    }
   ],
   "source": [
    "phrases = ['To be, ', 'or not to be.\\n', 'That is the question.']\n",
    "\n",
    "sentence = ''.join(phrases)\n",
    "print(sentence)"
   ]
  },
  {
   "cell_type": "markdown",
   "id": "93929c6c",
   "metadata": {},
   "source": [
    "### Using the split() and join() methods together"
   ]
  },
  {
   "cell_type": "code",
   "execution_count": 96,
   "id": "2a202536",
   "metadata": {},
   "outputs": [
    {
     "name": "stdout",
     "output_type": "stream",
     "text": [
      "Enter new separator: \\\n",
      "C:\\Users\\Wolfman\\Documents\\report.pdf\n"
     ]
    }
   ],
   "source": [
    "path = 'C:/Users/Wolfman/Documents/report.pdf'\n",
    "\n",
    "new_separator = input('Enter new separator: ')\n",
    "tokens = path.split('/')\n",
    "print(new_separator.join(tokens))"
   ]
  },
  {
   "cell_type": "raw",
   "id": "5f85b129",
   "metadata": {},
   "source": [
    "String date_of_birth is read from input. Split date_of_birth into tokens using a forward slash ('/') as the separator and assign birthdate_fields with the result.\n",
    "\n",
    "Ex: If the input is 1/28/1962, then the output is:\n",
    "\n",
    "['1', '28', '1962']"
   ]
  },
  {
   "cell_type": "code",
   "execution_count": 97,
   "id": "56a970fa",
   "metadata": {},
   "outputs": [
    {
     "name": "stdout",
     "output_type": "stream",
     "text": [
      "2/5/95\n",
      "['2', '5', '95']\n"
     ]
    }
   ],
   "source": [
    "date_of_birth = input()\n",
    "\n",
    "birthdate_fields = date_of_birth.split('/')\n",
    "\n",
    "print(birthdate_fields)"
   ]
  },
  {
   "cell_type": "raw",
   "id": "dd051e91",
   "metadata": {},
   "source": [
    "String color_choices and integer sues_choice are read from input. Perform the following tasks:\n",
    "\n",
    "Split color_choices into tokens using a comma (',') as the separator and assign color_list with the result.\n",
    "Output \"Sue's color is \", followed by the element at index sues_choice in color_list.\n"
   ]
  },
  {
   "cell_type": "code",
   "execution_count": 99,
   "id": "057a0753",
   "metadata": {},
   "outputs": [
    {
     "name": "stdout",
     "output_type": "stream",
     "text": [
      "color_choices: violet,pink,ochre,aqua,lavender\n",
      "sues_choice: 2\n",
      "Sue's color is ochre\n"
     ]
    }
   ],
   "source": [
    "color_choices = input(\"color_choices: \")\n",
    "sues_choice = int(input(\"sues_choice: \"))\n",
    "\n",
    "color_list = color_choices.split(',')\n",
    "print(f\"Sue's color is {color_list[sues_choice]}\")"
   ]
  },
  {
   "cell_type": "raw",
   "id": "f984b966",
   "metadata": {},
   "source": [
    "List robs_list is read from input. Join the strings in robs_list together to create a single string with '; ' as the separator and assign beverage_names with the result.\n",
    "\n",
    "Ex: If the input is pepsi milk eggnog, then the output is:\n",
    "\n",
    "Rob's beverages: pepsi; milk; eggnog"
   ]
  },
  {
   "cell_type": "code",
   "execution_count": 103,
   "id": "6abb2cf6",
   "metadata": {},
   "outputs": [
    {
     "name": "stdout",
     "output_type": "stream",
     "text": [
      "pepsi milk eggnog\n",
      "Rob's beverages: pepsi; milk; eggnog\n"
     ]
    }
   ],
   "source": [
    "robs_list = input().split()\n",
    "\n",
    "beverage_names = '; '.join(robs_list)\n",
    "\n",
    "print(f\"Rob's beverages: {beverage_names}\")"
   ]
  },
  {
   "cell_type": "markdown",
   "id": "4c5d1b46",
   "metadata": {},
   "source": [
    "# 7.5 LAB: Checker for integer string"
   ]
  },
  {
   "cell_type": "raw",
   "id": "e859d1be",
   "metadata": {},
   "source": [
    "Forms often allow a user to enter an integer. Write a program that takes in a string representing an integer as input, and outputs Yes if every character is a digit 0-9 or No otherwise.\n",
    "\n",
    "Ex: If the input is:\n",
    "\n",
    "1995\n",
    "the output is:\n",
    "\n",
    "Yes\n",
    "Ex: If the input is:\n",
    "\n",
    "42,000\n",
    "or any string with a non-integer character, the output is:\n",
    "\n",
    "No"
   ]
  },
  {
   "cell_type": "code",
   "execution_count": 107,
   "id": "d8ea9136",
   "metadata": {},
   "outputs": [
    {
     "name": "stdout",
     "output_type": "stream",
     "text": [
      "42,000\n",
      "No\n"
     ]
    }
   ],
   "source": [
    "user_string = input()\n",
    "\n",
    "user_string = user_string.strip()\n",
    "\n",
    "if user_string.isdigit() == True:\n",
    "    print(\"Yes\")\n",
    "else:\n",
    "    print(\"No\")"
   ]
  },
  {
   "cell_type": "code",
   "execution_count": null,
   "id": "f2f38084",
   "metadata": {},
   "outputs": [],
   "source": []
  }
 ],
 "metadata": {
  "kernelspec": {
   "display_name": "Python 3 (ipykernel)",
   "language": "python",
   "name": "python3"
  },
  "language_info": {
   "codemirror_mode": {
    "name": "ipython",
    "version": 3
   },
   "file_extension": ".py",
   "mimetype": "text/x-python",
   "name": "python",
   "nbconvert_exporter": "python",
   "pygments_lexer": "ipython3",
   "version": "3.9.7"
  }
 },
 "nbformat": 4,
 "nbformat_minor": 5
}
