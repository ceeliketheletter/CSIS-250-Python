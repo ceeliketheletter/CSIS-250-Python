{
 "cells": [
  {
   "cell_type": "markdown",
   "id": "e10f9f74",
   "metadata": {},
   "source": [
    "# 7.2 Advanced string formatting"
   ]
  },
  {
   "cell_type": "markdown",
   "id": "a9d3e559",
   "metadata": {},
   "source": [
    "Field width"
   ]
  },
  {
   "cell_type": "code",
   "execution_count": 58,
   "id": "d4fd08c1",
   "metadata": {},
   "outputs": [],
   "source": [
    "names = ['Sadio Mane', 'Gabriel Jesus']\n",
    "goals = [22, 7]\n",
    "\n",
    "\n",
    "\n",
    "def maketable(fstring1, fstring2):\n",
    "   print(fstring1)        \n",
    "   print('-' * 24)\n",
    "   for i in range(2):\n",
    "       print(fstring2)    \n",
    "    "
   ]
  },
  {
   "cell_type": "markdown",
   "id": "edabe0b8",
   "metadata": {},
   "source": [
    "Left-aligned"
   ]
  },
  {
   "cell_type": "code",
   "execution_count": 62,
   "id": "8e02c262",
   "metadata": {},
   "outputs": [
    {
     "name": "stdout",
     "output_type": "stream",
     "text": [
      "Player Name     Goals   \n",
      "------------------------\n",
      "Gabriel Jesus   7       \n",
      "Gabriel Jesus   7       \n"
     ]
    }
   ],
   "source": [
    "fstring1 = f'{\"Player Name\":<16}{\"Goals\":<8}'\n",
    "fstring2= f'{names[i]:<16}{goals[i]:<8}'\n",
    "\n",
    "maketable(fstring1, fstring2)"
   ]
  },
  {
   "cell_type": "markdown",
   "id": "66d197ff",
   "metadata": {},
   "source": [
    "Right-aligned"
   ]
  },
  {
   "cell_type": "code",
   "execution_count": 63,
   "id": "295de603",
   "metadata": {},
   "outputs": [
    {
     "name": "stdout",
     "output_type": "stream",
     "text": [
      "     Player Name   Goals\n",
      "------------------------\n",
      "   Gabriel Jesus       7\n",
      "   Gabriel Jesus       7\n"
     ]
    }
   ],
   "source": [
    "fstring1 = f'{\"Player Name\":>16}{\"Goals\":>8}'\n",
    "fstring2 = f'{names[i]:>16}{goals[i]:>8}'\n",
    "\n",
    "maketable(fstring1, fstring2)"
   ]
  },
  {
   "cell_type": "markdown",
   "id": "25e81f6f",
   "metadata": {},
   "source": [
    "Centered"
   ]
  },
  {
   "cell_type": "code",
   "execution_count": 66,
   "id": "268d3e96",
   "metadata": {},
   "outputs": [
    {
     "name": "stdout",
     "output_type": "stream",
     "text": [
      "  Player Name    Goals  \n",
      "------------------------\n",
      " Gabriel Jesus     7    \n",
      " Gabriel Jesus     7    \n"
     ]
    }
   ],
   "source": [
    "fstring1 =f'{\"Player Name\":^16}{\"Goals\":^8}'\n",
    "fstring2 = f'{names[i]:^16}{goals[i]:^8}'\n",
    "\n",
    "maketable(fstring1, fstring2)"
   ]
  },
  {
   "cell_type": "markdown",
   "id": "2d26c12f",
   "metadata": {},
   "source": [
    "Using fill characters to pad tables."
   ]
  },
  {
   "cell_type": "code",
   "execution_count": 71,
   "id": "fed7a4d2",
   "metadata": {},
   "outputs": [
    {
     "name": "stdout",
     "output_type": "stream",
     "text": [
      "Wayne Rooney        36\n",
      "Wayne Rooney    000036\n",
      "Wayne Rooney____000036\n"
     ]
    }
   ],
   "source": [
    "name = 'Wayne Rooney'\n",
    "goals = 36\n",
    "# Use default empty space fill character\n",
    "print(f'{name:<16}{goals:>6}')\n",
    "\n",
    "# Use '0' as a fill character for score\n",
    "print(f'{name:<16}{goals:0>6}')\n",
    "\n",
    "# Use '_' as fill character for name\n",
    "print(f'{name:_<16}{goals:0>6}')"
   ]
  },
  {
   "cell_type": "raw",
   "id": "505726b6",
   "metadata": {},
   "source": [
    "String food_name is read from input. Output the following:\n",
    "food_name with a width of 10 characters, left-aligned, and with the fill character '-'.\n",
    "food_name with a width of 10 characters, centered, and with the fill character '-'.\n"
   ]
  },
  {
   "cell_type": "code",
   "execution_count": 72,
   "id": "26c23edc",
   "metadata": {},
   "outputs": [
    {
     "name": "stdout",
     "output_type": "stream",
     "text": [
      "Carrot\n",
      "Carrot----\n",
      "--Carrot--\n"
     ]
    }
   ],
   "source": [
    "food_name = input()\n",
    "print(f'{food_name:-<10}')\n",
    "print(f'{food_name:-^10}')"
   ]
  },
  {
   "cell_type": "raw",
   "id": "325e6f96",
   "metadata": {},
   "source": [
    "Floating-point number lap_length is read from input. Output 'Miles: ', followed by lap_length to 2 decimal places.\n"
   ]
  },
  {
   "cell_type": "code",
   "execution_count": 79,
   "id": "2cb2b9cc",
   "metadata": {},
   "outputs": [
    {
     "name": "stdout",
     "output_type": "stream",
     "text": [
      "25\n",
      "Miles: 25.00\n"
     ]
    }
   ],
   "source": [
    "lap_length = float(input())\n",
    "print(f'Miles: {lap_length:.2f}')"
   ]
  },
  {
   "cell_type": "raw",
   "id": "6b54c00c",
   "metadata": {},
   "source": [
    "Three strings are read from input and stored into list plants. Then, three more strings are read from input and stored into list planted. Lastly, string separator_char is read from input. Output the following lines:\n",
    "\n",
    "\"Plants\", with a field width of 21, centered, and followed by '|'. Then \"Planted\", with a field width of 21, centered.\n",
    "42 instances of separator_char.\n",
    "plants[0], with a field width of 21, left-aligned, and followed by '|'. Then, planted[0] with a field width of 21, left-aligned.\n",
    "plants[1], with a field width of 21, left-aligned, and followed by '|'. Then, planted[1] with a field width of 21, left-aligned.\n",
    "plants[2], with a field width of 21, left-aligned, and followed by '|'. Then, planted[2] with a field width of 21, left-aligned.\n"
   ]
  },
  {
   "cell_type": "code",
   "execution_count": 87,
   "id": "56747452",
   "metadata": {},
   "outputs": [
    {
     "name": "stdout",
     "output_type": "stream",
     "text": [
      "Plants: Beans Corn Squash\n",
      "Planted: Tomatoes Carrots Beans\n",
      "Seperator: -\n",
      "       Plants        |       Planted       \n",
      "------------------------------------------\n",
      "Beans                |Tomatoes             \n",
      "Corn                 |Carrots              \n",
      "Squash               |Beans                \n"
     ]
    }
   ],
   "source": [
    "plants = input(\"Plants: \").split()\n",
    "planted = input(\"Planted: \").split()\n",
    "separator_char = input(\"Seperator: \")\n",
    "\n",
    "def maketable():\n",
    "   print(f'{\"Plants\":^21}|{\"Planted\":^21}')        \n",
    "   print(separator_char * 42)\n",
    "   for i in range(len(plants)):\n",
    "       print(f'{plants[i]:<21}|{planted[i]:<21}') \n",
    "\n",
    "maketable()\n"
   ]
  },
  {
   "cell_type": "markdown",
   "id": "d5968b7e",
   "metadata": {},
   "source": [
    "# 7.3 String methods"
   ]
  },
  {
   "cell_type": "markdown",
   "id": "dc43b858",
   "metadata": {},
   "source": [
    "replace(old, new) —Returns a copy of the string with all occurrences of the substring old replaced by the string new. The old and new arguments may be string variables or string literals.\n",
    "\n",
    "replace(old, new, count) —Same as above, except replace(old, new, count) only replaces the first count occurrences of old."
   ]
  },
  {
   "cell_type": "code",
   "execution_count": 4,
   "id": "218381cb",
   "metadata": {},
   "outputs": [
    {
     "name": "stdout",
     "output_type": "stream",
     "text": [
      "Translation: Someday I will have tres goats, six horses, and nine llamas.\n"
     ]
    }
   ],
   "source": [
    "phrase = 'Someday I will have three goats, six horses, and nine llamas.'\n",
    "\n",
    "phrase = phrase.replace('three', 'tres')\n",
    "\n",
    "print('Translation:', phrase)"
   ]
  },
  {
   "cell_type": "markdown",
   "id": "49ec654c",
   "metadata": {},
   "source": [
    "find(x) -- Returns the index of the first occurrence of item x in the string, otherwise, find(x) returns -1. x may be a string variable or string literal. Recall that in a string, the index of the first character is 0, not 1. If "
   ]
  },
  {
   "cell_type": "code",
   "execution_count": 14,
   "id": "747ecd15",
   "metadata": {},
   "outputs": [],
   "source": [
    "my_str = 'Boo Hoo!'"
   ]
  },
  {
   "cell_type": "code",
   "execution_count": 15,
   "id": "43bdbbc5",
   "metadata": {},
   "outputs": [
    {
     "data": {
      "text/plain": [
       "7"
      ]
     },
     "execution_count": 15,
     "metadata": {},
     "output_type": "execute_result"
    }
   ],
   "source": [
    "my_str.find('!')  # Returns 7"
   ]
  },
  {
   "cell_type": "code",
   "execution_count": 16,
   "id": "d49b096b",
   "metadata": {},
   "outputs": [
    {
     "data": {
      "text/plain": [
       "0"
      ]
     },
     "execution_count": 16,
     "metadata": {},
     "output_type": "execute_result"
    }
   ],
   "source": [
    "my_str.find('Boo')  # Returns 0"
   ]
  },
  {
   "cell_type": "code",
   "execution_count": 17,
   "id": "36850915",
   "metadata": {},
   "outputs": [
    {
     "data": {
      "text/plain": [
       "1"
      ]
     },
     "execution_count": 17,
     "metadata": {},
     "output_type": "execute_result"
    }
   ],
   "source": [
    "my_str.find('oo')  # Returns 1 (first occurrence only)"
   ]
  },
  {
   "cell_type": "markdown",
   "id": "cfc3d74c",
   "metadata": {},
   "source": [
    "find(x, start) —Same as find(x), but begins the search at index start:"
   ]
  },
  {
   "cell_type": "code",
   "execution_count": 18,
   "id": "7ff2aaf1",
   "metadata": {},
   "outputs": [
    {
     "data": {
      "text/plain": [
       "5"
      ]
     },
     "execution_count": 18,
     "metadata": {},
     "output_type": "execute_result"
    }
   ],
   "source": [
    "my_str.find('oo', 2)  # Returns 5"
   ]
  },
  {
   "cell_type": "markdown",
   "id": "58b5b9b8",
   "metadata": {},
   "source": [
    "find(x, start, end) -- Same as find(x, start), but stops the search at index end - 1:"
   ]
  },
  {
   "cell_type": "code",
   "execution_count": 19,
   "id": "027eb4e0",
   "metadata": {},
   "outputs": [
    {
     "data": {
      "text/plain": [
       "-1"
      ]
     },
     "execution_count": 19,
     "metadata": {},
     "output_type": "execute_result"
    }
   ],
   "source": [
    "my_str.find('oo', 2, 4)  # Returns -1 (not found)"
   ]
  },
  {
   "cell_type": "markdown",
   "id": "69aec5ac",
   "metadata": {},
   "source": [
    "rfind(x) -- Same as find(x) but searches the string in reverse, returning the last occurrence in the string."
   ]
  },
  {
   "cell_type": "markdown",
   "id": "93662b7d",
   "metadata": {},
   "source": [
    "Another useful function is count, which counts the number of times a substring occurs in the string:\n",
    "\n",
    "count(x) -- Returns the number of times x occurs in the string."
   ]
  },
  {
   "cell_type": "code",
   "execution_count": 20,
   "id": "0542948e",
   "metadata": {},
   "outputs": [
    {
     "data": {
      "text/plain": [
       "2"
      ]
     },
     "execution_count": 20,
     "metadata": {},
     "output_type": "execute_result"
    }
   ],
   "source": [
    "my_str.count('oo')  # Returns 2"
   ]
  },
  {
   "cell_type": "code",
   "execution_count": 23,
   "id": "56fd0c51",
   "metadata": {},
   "outputs": [
    {
     "data": {
      "text/plain": [
       "True"
      ]
     },
     "execution_count": 23,
     "metadata": {},
     "output_type": "execute_result"
    }
   ],
   "source": [
    "'Hello' == 'Hello' #The strings are exactly identical values"
   ]
  },
  {
   "cell_type": "code",
   "execution_count": 25,
   "id": "400073c3",
   "metadata": {},
   "outputs": [
    {
     "data": {
      "text/plain": [
       "False"
      ]
     },
     "execution_count": 25,
     "metadata": {},
     "output_type": "execute_result"
    }
   ],
   "source": [
    "'Hello' == 'Hello!' #The left hand string does not end with '!'."
   ]
  },
  {
   "cell_type": "code",
   "execution_count": 26,
   "id": "1aa881c5",
   "metadata": {},
   "outputs": [
    {
     "data": {
      "text/plain": [
       "True"
      ]
     },
     "execution_count": 26,
     "metadata": {},
     "output_type": "execute_result"
    }
   ],
   "source": [
    "'Yankee Sierra' > 'Amy Wise' #The first character of the left side 'Y' is \"greater than\" (in ASCII value) the first character of the right side 'A'."
   ]
  },
  {
   "cell_type": "code",
   "execution_count": 27,
   "id": "952a3729",
   "metadata": {},
   "outputs": [
    {
     "data": {
      "text/plain": [
       "False"
      ]
     },
     "execution_count": 27,
     "metadata": {},
     "output_type": "execute_result"
    }
   ],
   "source": [
    "'Yankee Sierra' > 'Yankee Zulu' #The characters of both sides match until the second word. The first character of the second word on the left 'S' is not \"greater than\" (in ASCII value) the first character on the right side 'Z'."
   ]
  },
  {
   "cell_type": "code",
   "execution_count": 28,
   "id": "410fa2cb",
   "metadata": {},
   "outputs": [
    {
     "data": {
      "text/plain": [
       "True"
      ]
     },
     "execution_count": 28,
     "metadata": {},
     "output_type": "execute_result"
    }
   ],
   "source": [
    "'seph' in 'Joseph' #The substring 'seph' can be found starting at the 3rd position of 'Joseph'."
   ]
  },
  {
   "cell_type": "code",
   "execution_count": 29,
   "id": "ff0808fa",
   "metadata": {},
   "outputs": [
    {
     "data": {
      "text/plain": [
       "False"
      ]
     },
     "execution_count": 29,
     "metadata": {},
     "output_type": "execute_result"
    }
   ],
   "source": [
    "'jo' in 'Joseph' #'jo' (with a lowercase 'j') is not in 'Joseph' (with an uppercase 'J')."
   ]
  },
  {
   "cell_type": "raw",
   "id": "8bc3b5f7",
   "metadata": {},
   "source": [
    "Methods to check a string value that returns a True or False Boolean value:\n",
    "isalnum() -- Returns True if all characters in the string are lowercase or uppercase letters, or the numbers 0-9.\n",
    "isdigit() -- Returns True if all characters are the numbers 0-9.\n",
    "islower() -- Returns True if all cased characters are lowercase letters.\n",
    "isupper() -- Returns True if all cased characters are uppercase letters.\n",
    "isspace() -- Returns True if all characters are whitespace.\n",
    "startswith(x) -- Returns True if the string starts with x.\n",
    "endswith(x) -- Returns True if the string ends with x."
   ]
  },
  {
   "cell_type": "raw",
   "id": "24b468ed",
   "metadata": {},
   "source": [
    "Methods to create new strings:\n",
    "capitalize() -- Returns a copy of the string with the first character capitalized and the rest lowercased.\n",
    "lower() -- Returns a copy of the string with all characters lowercased.\n",
    "upper() -- Returns a copy of the string with all characters uppercased.\n",
    "strip() -- Returns a copy of the string with leading and trailing whitespace removed.\n",
    "title() -- Returns a copy of the string as a title, with first letters of words capitalized."
   ]
  },
  {
   "cell_type": "code",
   "execution_count": 32,
   "id": "4baa21da",
   "metadata": {},
   "outputs": [
    {
     "name": "stdout",
     "output_type": "stream",
     "text": [
      "Enter passenger name:\n",
      "sfgdsdfgbsd\n",
      "SFGDSDFGBSD\n"
     ]
    }
   ],
   "source": [
    "name = input('Enter passenger name:\\n').strip().upper()\n",
    "print(name)"
   ]
  },
  {
   "cell_type": "code",
   "execution_count": null,
   "id": "d20e2676",
   "metadata": {},
   "outputs": [],
   "source": []
  }
 ],
 "metadata": {
  "kernelspec": {
   "display_name": "Python 3 (ipykernel)",
   "language": "python",
   "name": "python3"
  },
  "language_info": {
   "codemirror_mode": {
    "name": "ipython",
    "version": 3
   },
   "file_extension": ".py",
   "mimetype": "text/x-python",
   "name": "python",
   "nbconvert_exporter": "python",
   "pygments_lexer": "ipython3",
   "version": "3.9.7"
  }
 },
 "nbformat": 4,
 "nbformat_minor": 5
}
