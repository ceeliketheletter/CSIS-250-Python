{
 "cells": [
  {
   "cell_type": "markdown",
   "id": "766a0ba5",
   "metadata": {},
   "source": [
    "# 10.1 Handling exceptions using try and except\n",
    "Error-checking code is code that a programmer introduces to detect and handle errors that occur while the program executes. Python has special constructs known as exception-handling constructs because they handle exceptional circumstances, or errors, during execution."
   ]
  },
  {
   "cell_type": "markdown",
   "id": "88949c86",
   "metadata": {},
   "source": [
    "### Table 10.1.1: Common exception types.\n",
    "#### EOFError\n",
    "input() hits an end-of-file condition (EOF) without reading any input.\n",
    "#### KeyError\n",
    "A dictionary key is not found in the set of keys.\n",
    "#### ZeroDivisionError\n",
    "Divide by zero error\n",
    "#### ValueError\n",
    "Invalid value (Ex: Input mismatch)\n",
    "#### IndexError\n",
    "Index is out of bounds."
   ]
  },
  {
   "cell_type": "code",
   "execution_count": 1,
   "id": "1f4d95eb",
   "metadata": {},
   "outputs": [
    {
     "name": "stdout",
     "output_type": "stream",
     "text": [
      "red\n",
      "Error: Input for color intensity is invalid\n"
     ]
    }
   ],
   "source": [
    "color_intensity = input()\n",
    "try:\n",
    "    print(f'Color intensity: {int(color_intensity)}')\n",
    "\n",
    "except:\n",
    "    print('Error: Input for color intensity is invalid')"
   ]
  },
  {
   "cell_type": "markdown",
   "id": "aab1b627",
   "metadata": {},
   "source": [
    "The while loop reads values from input until two integers are read. Add an except block in the while loop to handle an exception and output 'Removed bad input for month of birth'."
   ]
  },
  {
   "cell_type": "code",
   "execution_count": 2,
   "id": "4645172f",
   "metadata": {},
   "outputs": [
    {
     "name": "stdout",
     "output_type": "stream",
     "text": [
      "12\n",
      "Month of birth: 12\n",
      "red\n",
      "Removed bad input for month of birth\n",
      "3\n",
      "Month of birth: 3\n",
      "Processed two valid input values\n"
     ]
    }
   ],
   "source": [
    "good_count = 0\n",
    "\n",
    "while good_count < 2:\n",
    "    try:\n",
    "        month_of_birth = int(input())\n",
    "        print(f'Month of birth: {month_of_birth}')\n",
    "        good_count = good_count + 1\n",
    "\n",
    "    except:\n",
    "        print(\"Removed bad input for month of birth\")\n",
    "\n",
    "print('Processed two valid input values')"
   ]
  },
  {
   "cell_type": "markdown",
   "id": "b397211a",
   "metadata": {},
   "source": [
    "# 10.2 Multiple exception handlers"
   ]
  },
  {
   "cell_type": "markdown",
   "id": "79b01be0",
   "metadata": {},
   "source": [
    "#### An AttributeError occurs if a function does not exist in an imported module."
   ]
  },
  {
   "cell_type": "code",
   "execution_count": null,
   "id": "dc9175a5",
   "metadata": {},
   "outputs": [],
   "source": []
  },
  {
   "cell_type": "code",
   "execution_count": 5,
   "id": "7e1433f2",
   "metadata": {},
   "outputs": [
    {
     "name": "stdout",
     "output_type": "stream",
     "text": [
      "Enter weight (in pounds): 1220\n",
      "Enter height (in inches): 235\n",
      "BMI: 15.530285196921685\n",
      "(CDC: 18.6-24.9 normal)\n",
      "\n",
      "Enter any key ('q' to quit):  \n",
      "Enter weight (in pounds): 132\n",
      "Enter height (in inches): 302\n",
      "BMI: 1.0174553747642647\n",
      "(CDC: 18.6-24.9 normal)\n",
      "\n",
      "Enter any key ('q' to quit): q\n"
     ]
    }
   ],
   "source": [
    "user_input = ''\n",
    "while user_input != 'q':\n",
    "    try:\n",
    "        weight = int(input(\"Enter weight (in pounds): \"))\n",
    "        height = int(input(\"Enter height (in inches): \"))\n",
    "\n",
    "        bmi = (float(weight) / float(height * height)) * 703\n",
    "        print(f'BMI: {bmi}')\n",
    "        print('(CDC: 18.6-24.9 normal)\\n')  # Source www.cdc.gov\n",
    "    except ValueError:\n",
    "        print('Could not calculate health info.\\n')\n",
    "    except ZeroDivisionError:\n",
    "        print('Invalid height entered. Must be > 0.')\n",
    "\n",
    "    user_input = input(\"Enter any key ('q' to quit): \")"
   ]
  },
  {
   "cell_type": "code",
   "execution_count": 6,
   "id": "4712270e",
   "metadata": {},
   "outputs": [
    {
     "name": "stdout",
     "output_type": "stream",
     "text": [
      "0\n",
      "z\n",
      "10\n",
      "6\n",
      "one\n",
      "v\n",
      "end\n",
      "OK\n"
     ]
    }
   ],
   "source": [
    "\n",
    "user_input = input()\n",
    "while user_input != 'end':\n",
    "    try:\n",
    "        # Possible ValueError\n",
    "        divisor = int(user_input)\n",
    "        # Possible ZeroDivisionError\n",
    "        print(60 // divisor) # Truncates to an integer\n",
    "    except ValueError:\n",
    "        print('v')\n",
    "    except ZeroDivisionError:\n",
    "        print('z')\n",
    "    user_input = input()\n",
    "print('OK')"
   ]
  },
  {
   "cell_type": "code",
   "execution_count": 7,
   "id": "c518da71",
   "metadata": {},
   "outputs": [
    {
     "name": "stdout",
     "output_type": "stream",
     "text": [
      "20\n",
      "1 -2\n",
      "5 -8\n",
      "s nine\n",
      "r 0\n",
      "r 38\n",
      "s end\n",
      "OK\n"
     ]
    }
   ],
   "source": [
    "\n",
    "numbers = [2, 4, 5, 8]\n",
    "user_input = input()\n",
    "while user_input != 'end':\n",
    "    try:\n",
    "        # Possible ValueError\n",
    "        divisor = int(user_input)\n",
    "        if divisor > 20:\n",
    "            # Possible NameError\n",
    "            # compute() is not defined\n",
    "            result = compute(result)\n",
    "        elif divisor < 0:\n",
    "            # Possible IndexError\n",
    "            result = numbers[divisor]\n",
    "        else:\n",
    "            # Possible ZeroDivisionError\n",
    "            result = 20 // divisor          # // truncates to an integer\n",
    "        print(result, end=' ')\n",
    "    except (ValueError, ZeroDivisionError):\n",
    "        print('r', end=' ')\n",
    "    except (NameError, IndexError):\n",
    "        print('s', end=' ')\n",
    "    user_input = input()\n",
    "print('OK')"
   ]
  },
  {
   "cell_type": "markdown",
   "id": "a72811ce",
   "metadata": {},
   "source": [
    "# 10.3 Raising exceptions\n",
    "Code that detects an error can execute a raise statement, which causes immediate exit from the try block and the execution of an exception handler. The exception handler prints the argument passed by the raise statement that brought execution. Notice that the normal code flow is not obscured by new if-else statements. You can clearly see that the flow is \"get weight, get height, then print BMI\".\n",
    "\n"
   ]
  },
  {
   "cell_type": "code",
   "execution_count": 8,
   "id": "0b424004",
   "metadata": {},
   "outputs": [
    {
     "name": "stdout",
     "output_type": "stream",
     "text": [
      "Enter weight (in pounds): 110\n",
      "Enter height (in inches): 500\n",
      "BMI: 0.30932\n",
      "(CDC: 18.6-24.9 normal)\n",
      "\n",
      "Enter any key ('q' to quit): q\n"
     ]
    }
   ],
   "source": [
    "user_input = ''\n",
    "while user_input != 'q':\n",
    "    try:\n",
    "        weight = int(input('Enter weight (in pounds): '))\n",
    "        if weight < 0:\n",
    "            raise ValueError('Invalid weight.')\n",
    "\n",
    "        height = int(input('Enter height (in inches): '))\n",
    "        if height <= 0:\n",
    "            raise ValueError('Invalid height.')\n",
    "\n",
    "        bmi = (float(weight) * 703) / (float(height * height))\n",
    "        print(f'BMI: {bmi}')\n",
    "        print('(CDC: 18.6-24.9 normal)\\n')\n",
    "        # Source www.cdc.gov\n",
    "\n",
    "    except ValueError as excpt:\n",
    "        print(excpt)\n",
    "        print('Could not calculate health info.\\n')\n",
    "\n",
    "    user_input = input(\"Enter any key ('q' to quit): \")"
   ]
  },
  {
   "cell_type": "code",
   "execution_count": 9,
   "id": "f81f2f58",
   "metadata": {},
   "outputs": [
    {
     "name": "stdout",
     "output_type": "stream",
     "text": [
      "-20\n",
      "Error: Invalid age\n"
     ]
    }
   ],
   "source": [
    "\n",
    "try:\n",
    "    user_age = int(input())\n",
    "\n",
    "    if user_age < 0:\n",
    "        raise ValueError('Invalid age')\n",
    "\n",
    "    # Source: https://www.heart.org/en/healthy-living/fitness\n",
    "    avg_max_heart_rate = 220 - user_age\n",
    "\n",
    "    print(f'Avg: {avg_max_heart_rate}')\n",
    "\n",
    "except ValueError as excpt:\n",
    "    print(f'Error: {excpt}')"
   ]
  },
  {
   "cell_type": "markdown",
   "id": "4f09b6b7",
   "metadata": {},
   "source": [
    "# 10.4 Exceptions with functions\n",
    "If no try block appears in the function, the raise statement causes automatic exiting from the function. The calling statement is then checked for an exception handler until the exception is handled or the script is exited.\n",
    "2)\n"
   ]
  },
  {
   "cell_type": "code",
   "execution_count": 10,
   "id": "ab77dc5d",
   "metadata": {},
   "outputs": [
    {
     "name": "stdout",
     "output_type": "stream",
     "text": [
      "Enter weight (in pounds): red\n",
      "invalid literal for int() with base 10: 'red'\n",
      "Could not calculate health info.\n",
      "\n",
      "Enter any key ('q' to quit):  \n",
      "Enter weight (in pounds): 132\n",
      "Enter height (in inches): 302\n",
      "BMI: 1.0174553747642647\n",
      "(CDC: 18.6-24.9 normal)\n",
      "\n",
      "Enter any key ('q' to quit): q\n"
     ]
    }
   ],
   "source": [
    "def get_weight():\n",
    "    weight = int(input('Enter weight (in pounds): '))\n",
    "    if weight < 0:\n",
    "        raise ValueError('Invalid weight.')\n",
    "    return weight\n",
    "\n",
    "def get_height():\n",
    "    height = int(input('Enter height (in inches): '))\n",
    "    if height <= 0:\n",
    "        raise ValueError('Invalid height.')\n",
    "    return height\n",
    "\n",
    "user_input = ''\n",
    "while user_input != 'q':\n",
    "    try:\n",
    "        weight = get_weight()\n",
    "        height = get_height()\n",
    "\n",
    "        bmi = (float(weight) / float(height * height)) * 703\n",
    "        print(f'BMI: {bmi}')\n",
    "        print('(CDC: 18.6-24.9 normal)\\n')\n",
    "        # Source www.cdc.gov\n",
    "\n",
    "    except ValueError as excpt:\n",
    "        print(excpt)\n",
    "        print('Could not calculate health info.\\n')\n",
    "\n",
    "    user_input = input(\"Enter any key ('q' to quit): \")"
   ]
  },
  {
   "cell_type": "markdown",
   "id": "71241d05",
   "metadata": {},
   "source": [
    "# 10.5 Using finally to clean up"
   ]
  },
  {
   "cell_type": "code",
   "execution_count": null,
   "id": "cc714043",
   "metadata": {},
   "outputs": [],
   "source": []
  }
 ],
 "metadata": {
  "kernelspec": {
   "display_name": "Python 3 (ipykernel)",
   "language": "python",
   "name": "python3"
  },
  "language_info": {
   "codemirror_mode": {
    "name": "ipython",
    "version": 3
   },
   "file_extension": ".py",
   "mimetype": "text/x-python",
   "name": "python",
   "nbconvert_exporter": "python",
   "pygments_lexer": "ipython3",
   "version": "3.9.7"
  }
 },
 "nbformat": 4,
 "nbformat_minor": 5
}
